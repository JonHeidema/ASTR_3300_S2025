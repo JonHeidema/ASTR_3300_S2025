{
 "cells": [
  {
   "cell_type": "markdown",
   "metadata": {},
   "source": [
    "### ASTR 3300/5300-003: Astrostatistics\n",
    "***N. Pol***\n",
    "___\n",
    "\n",
    "# Homework 3\n",
    "### Due: Friday, Feb 14th at 11.59pm CST\n",
    "---"
   ]
  },
  {
   "cell_type": "markdown",
   "metadata": {},
   "source": [
    "## Only one problem this week\n",
    "\n",
    "This problem uses a dataset in `/coursework/homeworks/hw_data/`.\n",
    "\n",
    "1) Read in `hw3_data_1.npy`. This is a (50 x 2) numpy array, with measurements in the first column and uncertainties in the second column. Using the analytic results for heteroscedastic Gaussian data from lectures, compute the sample mean and the standard error on the sample mean from for this data.\n",
    "\n",
    "2) Reusing some approaches and tools from `Lecture_6`, write a ln-likelihood function for heteroscedastic Gaussian data, and use it in a fitting algorithm to find the best-fit mean. *Remember that scipy optimizers are set up to minimize functions.*\n",
    "\n",
    "3) Using the same numerical technique from `Lecture_5`, compute the Fisher uncertainty estimate on the mean.\n",
    "\n",
    "4) Using the bootstrap method, generate $1000$ bootstrap realizations of this dataset. *DO NOT use the `astroML` code. Write your own bootstrap function from scratch. Also recall that when resampling data, measurements and uncertainties should stay paired together.*\n",
    "\n",
    "5) Repeat (2) with all $1000$ boostrap datasets to find the distribution of the sample mean. Plot a normalized histogram of these bootstrap means, and overplot a Gaussian pdf with the mean and std found in (1). Do these agree?\n",
    "\n",
    "6) While we have fitted a heteroscedastic Gaussian to this data, let's try something else. Write some code to define a ln-likelihood for a Laplace distribution evaluated on this data. Fit simultaneously for the Laplace location parameter $\\mu$ and scale parameter $\\Delta$.\n",
    "\n",
    "7) Compute the AIC values for the heteroscedastic Gaussian model and the Laplacian model. Which model is favored by the data?\n",
    "\n",
    "8) Using the $1000$ bootstrap datasets from before, fit for the Laplacian $\\mu$ and $\\Delta$ for each. Make a nice `corner` plot of the distributions of $\\mu$ and $\\Delta$ that shows both the marginal $1$D distributions and the joint $2$D distribution. Make sure the plot has labels, shows the titles on each $1$D marginal panel, and has $68\\%$ and $95\\%$ levels.\n",
    "\n",
    "9) Let's finish with a Fisher uncertainty estimate of the Laplacian parameters. Use the following code to install `numdifftools` which provides a simple way to compute derivatives. We can then compute the Hessian matrix, which is the matrix of the second derivatives of the user's function. This should be computed at the best-fit Laplacian parameters $\\mu$ and $\\Delta$. To finish, invert the matrix, and then take the square root. The diagonal entries will then be the Fisher uncertainties on $\\mu$ and $\\Delta$. How does these compare to the bootstrap distribution widths found in (8)?"
   ]
  },
  {
   "cell_type": "code",
   "execution_count": 169,
   "metadata": {},
   "outputs": [],
   "source": [
    "#!pip install numdifftools"
   ]
  },
  {
   "cell_type": "code",
   "execution_count": 170,
   "metadata": {},
   "outputs": [],
   "source": [
    "import numpy as np\n",
    "import scipy as sp\n",
    "import matplotlib.pyplot as plt\n",
    "from scipy.stats import norm\n",
    "from scipy.stats import laplace\n",
    "import corner\n",
    "import numdifftools as nd"
   ]
  },
  {
   "cell_type": "code",
   "execution_count": 171,
   "metadata": {},
   "outputs": [],
   "source": [
    "# import numdifftools as nd\n",
    "# H = nd.Hessian(f_lnlaplace)([beta_laplace[0], beta_laplace[1]])\n",
    "# sigma_laplace = np.linalg.inv(H)**0.5"
   ]
  },
  {
   "cell_type": "markdown",
   "metadata": {},
   "source": [
    "### Solution"
   ]
  },
  {
   "cell_type": "code",
   "execution_count": 172,
   "metadata": {},
   "outputs": [],
   "source": [
    "data = np.load('hw_data/hw3_data_1.npy')\n",
    "x = data[:,0]\n",
    "sigma = data [:,1]\n",
    "#data"
   ]
  },
  {
   "cell_type": "code",
   "execution_count": 173,
   "metadata": {},
   "outputs": [
    {
     "name": "stdout",
     "output_type": "stream",
     "text": [
      "Sample Mean =  3.9179920346060557 \n",
      "Standard Error on the sample mean =  0.07698466011059846\n"
     ]
    }
   ],
   "source": [
    "sample_mu = np.sum(x / sigma**2) / np.sum(1/(sigma**2))\n",
    "sample_sigma = np.sqrt(1/np.sum((sigma)**2))\n",
    "print('Sample Mean = ',sample_mu ,'\\nStandard Error on the sample mean = ' , sample_sigma)"
   ]
  },
  {
   "cell_type": "markdown",
   "metadata": {},
   "source": [
    "## Gaussian Fit"
   ]
  },
  {
   "cell_type": "code",
   "execution_count": 174,
   "metadata": {},
   "outputs": [
    {
     "name": "stdout",
     "output_type": "stream",
     "text": [
      "After optimization the mean turn out to be =  3.937547481513503 sigma =  1.1507205811063763\n"
     ]
    }
   ],
   "source": [
    "def negative_log_likelihood_gaussian(params, x):\n",
    "    mu, sigma = params\n",
    "    return np.sum((x - mu)**2 / (2 * sigma**2) + np.log(np.sqrt(2 * np.pi * sigma**2)))\n",
    "result = sp.optimize.minimize(negative_log_likelihood_gaussian, [np.mean(x), np.std(x, ddof=1)], args=(x,))\n",
    "mu_fit_g, sigma_fit_g = result.x\n",
    "print('After optimization the mean turn out to be = ',mu_fit_g,'sigma = ',sigma_fit_g)"
   ]
  },
  {
   "cell_type": "markdown",
   "metadata": {},
   "source": [
    "### Fisher Uncertainty for Gaussian Mean"
   ]
  },
  {
   "cell_type": "code",
   "execution_count": 175,
   "metadata": {},
   "outputs": [
    {
     "name": "stdout",
     "output_type": "stream",
     "text": [
      "fischer uncertainity of mu =  0.09481084100510956\n"
     ]
    }
   ],
   "source": [
    "f_mu = 1/np.sqrt(np.sum(1/sigma**2))\n",
    "print('fischer uncertainity of mu = ',f_mu)"
   ]
  },
  {
   "cell_type": "code",
   "execution_count": 176,
   "metadata": {},
   "outputs": [],
   "source": [
    "# bootstrap_data = np.empty((1000, 50, 2))\n",
    "# np.random.seed(42)\n",
    "# for j in range(1000):\n",
    "#     for i in range(50):\n",
    "#         rnd = np.random.randint(0, 50)\n",
    "#         bootstrap_data[j,i] = data[rnd]        "
   ]
  },
  {
   "cell_type": "markdown",
   "metadata": {},
   "source": [
    "### BootStrapping"
   ]
  },
  {
   "cell_type": "code",
   "execution_count": 177,
   "metadata": {},
   "outputs": [],
   "source": [
    "bootstrapped_datasets_np = [data[np.random.choice(data.shape[0], size=data.shape[0], replace=True)] for _ in range(1000)]"
   ]
  },
  {
   "cell_type": "markdown",
   "metadata": {},
   "source": [
    "### Gaussian Fit for Bootstrapped Data"
   ]
  },
  {
   "cell_type": "code",
   "execution_count": 178,
   "metadata": {},
   "outputs": [
    {
     "data": {
      "image/png": "[encoded data removed]",
      "text/plain": [
       "<Figure size 640x480 with 1 Axes>"
      ]
     },
     "metadata": {},
     "output_type": "display_data"
    }
   ],
   "source": [
    "mu_hist_g=[]\n",
    "for j in range(1000):\n",
    "    boot_x = bootstrapped_datasets_np[j][:,0]\n",
    "    boot_sigma = bootstrapped_datasets_np[j][:,1]\n",
    "    result = sp.optimize.minimize(negative_log_likelihood_gaussian, [np.mean(boot_x), np.std(boot_x, ddof=1)], args=(boot_x,))\n",
    "    mu_fit, sigma_fit = result.x\n",
    "    mu_hist_g.append(mu_fit)\n",
    "    \n",
    "plt.hist(mu_hist_g, bins=100,density=True, label ='Bootstrap mean')\n",
    "dist_g = norm(loc=sample_mu, scale=sample_sigma)\n",
    "x_range = np.linspace(3,5,1000)\n",
    "plt.plot(x_range,dist_g.pdf(x_range),label='Gaussian fit')\n",
    "plt.legend()\n",
    "plt.show()"
   ]
  },
  {
   "cell_type": "markdown",
   "metadata": {},
   "source": [
    "## Laplace fit"
   ]
  },
  {
   "cell_type": "code",
   "execution_count": 179,
   "metadata": {},
   "outputs": [
    {
     "name": "stdout",
     "output_type": "stream",
     "text": [
      "After optimization the mean turns out to be =  4.085141264538312\n"
     ]
    }
   ],
   "source": [
    "def negative_log_likelihood_laplace(params, x):\n",
    "    mu, delta = params\n",
    "    return np.sum(np.log(2 * delta) + np.abs(x - mu) / delta)\n",
    "res_l = sp.optimize.minimize(negative_log_likelihood_laplace, [np.median(x), np.mean(np.abs(x - np.median(x)))], args=(x,))\n",
    "mu_fit_l, delta_fit_l = res_l.x\n",
    "\n",
    "print('After optimization the mean turns out to be = ',mu_fit_l)"
   ]
  },
  {
   "cell_type": "markdown",
   "metadata": {},
   "source": [
    "### AIC"
   ]
  },
  {
   "cell_type": "code",
   "execution_count": 180,
   "metadata": {},
   "outputs": [],
   "source": [
    "def log_likelihood_gaussian(mu, sigma, x):\n",
    "    return -0.5 * np.sum(((x - mu) / sigma)**2 + np.log(2 * np.pi * sigma**2))\n",
    "\n",
    "def log_likelihood_laplace(mu, delta, x):\n",
    "    return -np.sum(np.log(2 * delta) + np.abs(x - mu) / delta)\n",
    "    \n",
    "def compute_aic(log_likelihood, k):\n",
    "    return 2 * k - 2 * log_likelihood\n",
    "k=2\n",
    "aic_g = compute_aic(log_likelihood_gaussian(mu_fit_g, sigma_fit_g, x) , k)\n",
    "aic_l = compute_aic(log_likelihood_laplace(mu_fit_l, delta_fit_l, x) , k)\n",
    "#log_likelihood_gaussian(mu_fit_g, sigma_fit_g, x) , log_likelihood_laplace(mu_fit_l, delta_fit_l, x)"
   ]
  },
  {
   "cell_type": "code",
   "execution_count": 181,
   "metadata": {},
   "outputs": [
    {
     "name": "stdout",
     "output_type": "stream",
     "text": [
      "Lower AIC is favoured \n",
      "AIC of Gaussian =  315.86537847577375 \n",
      "AIC of Laplacian =  317.57783235318016\n"
     ]
    }
   ],
   "source": [
    "print('Lower AIC is favoured \\nAIC of Gaussian = ',aic_g,'\\nAIC of Laplacian = ',aic_l)"
   ]
  },
  {
   "cell_type": "markdown",
   "metadata": {},
   "source": [
    "### Bootstrap with Laplace fit"
   ]
  },
  {
   "cell_type": "code",
   "execution_count": 182,
   "metadata": {},
   "outputs": [],
   "source": [
    "hist_l=np.empty((1000,2))\n",
    "for j in range(1000):\n",
    "    boot_x = bootstrapped_datasets_np[j][:,0]\n",
    "    boot_sigma = bootstrapped_datasets_np[j][:,1]\n",
    "    result = sp.optimize.minimize(negative_log_likelihood_laplace, [np.median(boot_x), np.mean(np.abs(boot_x - np.median(boot_x)))], args=(boot_x,))\n",
    "    b_mu_fit_l, b_delta_fit_l = result.x\n",
    "    hist_l[j]=np.array([b_mu_fit_l, b_delta_fit_l])\n",
    "    \n",
    "# plt.hist(hist_l[:,0], bins=30,density=True)\n",
    "# dist_l = laplace(loc=sample_mu, scale=sample_sigma)\n",
    "# x_range = np.linspace(3,5,1000)\n",
    "# plt.plot(x_range,dist_l.pdf(x_range))\n",
    "# plt.show()"
   ]
  },
  {
   "cell_type": "markdown",
   "metadata": {},
   "source": [
    "## Corner Plot for Mean and Sigma from Bootstrap Laplace Fit"
   ]
  },
  {
   "cell_type": "code",
   "execution_count": 183,
   "metadata": {},
   "outputs": [
    {
     "data": {
      "image/png": "[encoded data removed]",
      "text/plain": [
       "<Figure size 550x550 with 4 Axes>"
      ]
     },
     "metadata": {},
     "output_type": "display_data"
    }
   ],
   "source": [
    "\n",
    "fig = corner.corner(hist_l, \n",
    "                    quantiles=[0.16, 0.5, 0.84,0.025,0.975],  \n",
    "                    show_titles=True,  \n",
    "                    title_kwargs={\"fontsize\": 12}, \n",
    "                    labels=[r\"$\\mu$\", r\"$\\Delta$\"],\n",
    "                    color=\"blue\", \n",
    "                    fill_contours=True,  \n",
    "                    levels=[0.68, 0.95],  \n",
    "                    plot_density=True,  \n",
    "                    title_quantiles=[0.16, 0.5, 0.84]\n",
    ")\n"
   ]
  },
  {
   "cell_type": "markdown",
   "metadata": {},
   "source": [
    "### Fisher Uncertainties for Laplace Fit"
   ]
  },
  {
   "cell_type": "code",
   "execution_count": 184,
   "metadata": {},
   "outputs": [],
   "source": [
    "def log_likelihood(params, data):\n",
    "    mu, delta = params\n",
    "    return -np.sum(np.log(laplace.pdf(data, loc=mu, scale=delta)))\n",
    "\n",
    "def compute_hessian(log_likelihood, data, params):\n",
    "    hessian = nd.Hessian(lambda p: log_likelihood(p, data))(params)\n",
    "    return hessian\n",
    "\n",
    "params_best_fit = [mu_fit_l, delta_fit_l]\n",
    "hessian_matrix = compute_hessian(log_likelihood, x, params_best_fit)\n",
    "\n",
    "covariance_matrix = np.linalg.inv(hessian_matrix)\n",
    "\n",
    "fisher_uncertainties = np.sqrt(np.diag(covariance_matrix))"
   ]
  },
  {
   "cell_type": "code",
   "execution_count": 185,
   "metadata": {},
   "outputs": [
    {
     "name": "stdout",
     "output_type": "stream",
     "text": [
      "Fisher Mean Uncertainity of laplace fit =  0.1092248022374498\n",
      "STD of Mean from Bootstraped laplace fit =  0.1397162178692172\n"
     ]
    }
   ],
   "source": [
    "print('Fisher Mean Uncertainity of laplace fit = ', fisher_uncertainties[0])\n",
    "mu_bootstrap_width = np.std(hist_l[:,0])\n",
    "print('STD of Mean from Bootstraped laplace fit = ',mu_bootstrap_width)"
   ]
  },
  {
   "cell_type": "code",
   "execution_count": null,
   "metadata": {},
   "outputs": [],
   "source": []
  },
  {
   "cell_type": "markdown",
   "metadata": {},
   "source": [
    "<span style=\"color:green\"> NP: Correct! Good job!</span>"
   ]
  },
  {
   "cell_type": "markdown",
   "metadata": {},
   "source": [
    "## The spread is more in the bootstraped data"
   ]
  },
  {
   "cell_type": "code",
   "execution_count": 186,
   "metadata": {
    "jupyter": {
     "source_hidden": true
    }
   },
   "outputs": [],
   "source": [
    "# import numpy as np\n",
    "# from scipy.stats import norm, laplace\n",
    "\n",
    "# # Given data (first column is values, second column is uncertainties)\n",
    "# data_values = np.array([\n",
    "#     [2.97207735, 0.93806458], [1.98824293, 1.40262692], [1.66981961, 1.97120698],\n",
    "#     [3.96519709, 0.60359301], [3.38541476, 1.29698654], [4.24894584, 1.68629961],\n",
    "#     [3.69290063, 1.06277049], [4.33198366, 1.28038671], [2.49401178, 1.22485083],\n",
    "#     [1.89419429, 1.40555012], [2.04203146, 1.30841409], [4.15394176, 1.97421998],\n",
    "#     [4.14130534, 1.59510787], [4.21256076, 1.4295954 ], [4.47047556, 0.9776734 ],\n",
    "#     [4.29385594, 1.47949413], [3.68668822, 0.96958318], [4.67658913, 1.53171867],\n",
    "#     [3.66326255, 0.51330266], [3.86702391, 0.69561611], [4.15062285, 0.76745015],\n",
    "#     [5.10972749, 1.94193392], [4.16180633, 1.26347131], [4.04294769, 1.50713396],\n",
    "#     [3.14447868, 1.51402808], [6.13017327, 1.67982047], [7.47431877, 1.79210525],\n",
    "#     [4.55226549, 0.70417746], [3.18937552, 1.41750426], [5.05068215, 1.59340252],\n",
    "#     [2.58504832, 1.40936962], [3.2807617 , 0.7817426 ], [3.15074159, 0.5165563 ],\n",
    "#     [4.68488632, 0.67327222], [6.58112816, 1.91096086], [2.8891109 , 1.63403368],\n",
    "#     [5.12723698, 0.58202125], [4.42150207, 0.86437187], [5.78739811, 1.1488919 ],\n",
    "#     [3.09099302, 0.99063548], [2.95001153, 1.72585217], [4.56778994, 1.07847601],\n",
    "#     [5.18264257, 0.85565779], [2.84179256, 0.71061225], [4.39262812, 1.76637912],\n",
    "#     [4.04550675, 0.59957146], [5.61515858, 1.54215483], [4.30454563, 1.09315219],\n",
    "#     [4.54079173, 0.55998747], [4.6024919 , 0.78480243], [4.22466725, 0.65620631],\n",
    "#     [3.23519179, 1.05628333], [4.68671169, 1.61054331], [3.52982363, 0.5737954 ],\n",
    "#     [3.91370395, 1.54376768], [2.45921984, 1.25788577], [4.24447507, 0.5740388 ],\n",
    "#     [3.14653177, 0.77481835], [5.33943461, 1.56386731], [4.03419177, 0.93585464],\n",
    "#     [5.29661353, 0.94398386], [1.53762427, 1.73185342], [4.73684358, 1.89022008],\n",
    "#     [4.39143774, 1.30640142], [4.86001446, 1.54601227], [2.94239726, 1.48436902],\n",
    "#     [4.77882139, 1.62476338], [2.20043281, 1.00299831], [4.65868995, 0.85911013],\n",
    "#     [3.06975053, 0.52684871], [4.27078305, 1.32872544], [5.45355937, 1.86199703],\n",
    "#     [3.58302266, 1.42962684], [6.78259445, 1.37286052], [3.69313217, 1.73866964],\n",
    "#     [3.8625051 , 0.68447321], [5.04842957, 1.72305337], [2.93330476, 1.56728894],\n",
    "#     [4.26274594, 0.56023998], [4.09244224, 0.86605321], [3.10229518, 0.64341876],\n",
    "#     [3.22028372, 1.73707399], [3.67446241, 0.50535491], [3.15810998, 0.51140379],\n",
    "#     [3.13482852, 1.78621005], [0.41036839, 1.52273128], [3.46562245, 0.88805017],\n",
    "#     [1.35147524, 1.91348597], [4.94178893, 1.07902421], [5.021566 , 0.66213091],\n",
    "#     [3.28702062, 1.19433008], [4.81515552, 0.65059471], [4.7044181 , 0.94529203],\n",
    "#     [2.93012022, 1.46766151], [4.77388898, 1.77940055], [4.07784029, 1.44294596],\n",
    "#     [4.10135768, 1.93956482], [3.08022213, 1.01228358], [4.53694361, 1.92379373],\n",
    "#     [3.19879973, 1.05058342]\n",
    "# ])\n",
    "\n",
    "# # Extract only the first column (data values)\n",
    "# x = data_values[:, 0]\n",
    "\n",
    "# # Gaussian best-fit parameters\n",
    "# mu_gauss, sigma_gauss = norm.fit(x)\n",
    "\n",
    "# # Laplace best-fit parameters\n",
    "# mu_laplace, b_laplace = laplace.fit(x)\n",
    "\n",
    "# print(f\"Gaussian Fit: Mean = {mu_gauss:.3f}, Std Dev = {sigma_gauss:.3f}\")\n",
    "# print(f\"Laplace Fit: Median = {mu_laplace:.3f}, Scale = {b_laplace:.3f}\")\n"
   ]
  },
  {
   "cell_type": "code",
   "execution_count": 187,
   "metadata": {
    "jupyter": {
     "source_hidden": true
    }
   },
   "outputs": [],
   "source": [
    "# import numpy as np\n",
    "# import matplotlib.pyplot as plt\n",
    "# from scipy.stats import norm, laplace\n",
    "\n",
    "# # Extract only the first column (data values)\n",
    "# x = data_values[:, 0]\n",
    "\n",
    "# # Fit Gaussian and Laplace distributions\n",
    "# mu_gauss, sigma_gauss = norm.fit(x)\n",
    "# mu_laplace, b_laplace = laplace.fit(x)\n",
    "\n",
    "# # Generate x values for the fitted curves\n",
    "# x_range = np.linspace(min(x), max(x), 1000)\n",
    "\n",
    "# # Compute the probability densities\n",
    "# pdf_gauss = norm.pdf(x_range, mu_gauss, sigma_gauss)\n",
    "# pdf_laplace = laplace.pdf(x_range, mu_laplace, b_laplace)\n",
    "\n",
    "# # Plot histogram of the data\n",
    "# plt.figure(figsize=(8, 6))\n",
    "# plt.hist(x, bins=15, density=True, alpha=0.6, color='gray', label=\"Empirical Data\")\n",
    "\n",
    "# # Plot Gaussian and Laplace fits\n",
    "# plt.plot(x_range, pdf_gauss, 'b-', lw=2, label=f'Gaussian Fit: $\\mu$={mu_gauss:.2f}, $\\sigma$={sigma_gauss:.2f}')\n",
    "# plt.plot(x_range, pdf_laplace, 'r-', lw=2, label=f'Laplace Fit: $\\mu$={mu_laplace:.2f}, $b$={b_laplace:.2f}')\n",
    "\n",
    "# # Labels and legend\n",
    "# plt.xlabel(\"Data Values\")\n",
    "# plt.ylabel(\"Density\")\n",
    "# plt.title(\"Gaussian vs. Laplace Fit to Data\")\n",
    "# plt.legend()\n",
    "# plt.grid()\n",
    "# plt.show()\n"
   ]
  },
  {
   "cell_type": "code",
   "execution_count": 188,
   "metadata": {
    "jupyter": {
     "source_hidden": true
    }
   },
   "outputs": [],
   "source": [
    "# import numpy as np\n",
    "# from scipy.stats import norm, laplace\n",
    "\n",
    "# # Extract data values\n",
    "# x = data_values[:, 0]\n",
    "# N = len(x)  # Number of data points\n",
    "\n",
    "# # Fit Gaussian and Laplace distributions\n",
    "# mu_gauss, sigma_gauss = norm.fit(x)\n",
    "# mu_laplace, b_laplace = laplace.fit(x)\n",
    "\n",
    "# # Compute log-likelihoods\n",
    "# logL_gauss = np.sum(norm.logpdf(x, mu_gauss, sigma_gauss))\n",
    "# logL_laplace = np.sum(laplace.logpdf(x, mu_laplace, b_laplace))\n",
    "\n",
    "# # Compute AIC for each model\n",
    "# k_gauss = 2  # Parameters: mean (μ), std deviation (σ)\n",
    "# k_laplace = 2  # Parameters: median (μ), scale (b)\n",
    "\n",
    "# AIC_gauss = 2 * k_gauss - 2 * logL_gauss\n",
    "# AIC_laplace = 2 * k_laplace - 2 * logL_laplace\n",
    "\n",
    "# # Print results\n",
    "# print(f\"Gaussian Fit: Mean = {mu_gauss:.3f}, Std Dev = {sigma_gauss:.3f}, AIC = {AIC_gauss:.3f}\")\n",
    "# print(f\"Laplace Fit: Median = {mu_laplace:.3f}, Scale = {b_laplace:.3f}, AIC = {AIC_laplace:.3f}\")\n",
    "\n",
    "# # Determine which model is better\n",
    "# if AIC_gauss < AIC_laplace:\n",
    "#     print(\"Gaussian distribution provides a better fit (lower AIC).\")\n",
    "# else:\n",
    "#     print(\"Laplace distribution provides a better fit (lower AIC).\")\n"
   ]
  },
  {
   "cell_type": "code",
   "execution_count": 189,
   "metadata": {
    "jupyter": {
     "source_hidden": true
    }
   },
   "outputs": [],
   "source": [
    "# import numpy as np\n",
    "# from scipy.stats import norm, laplace\n",
    "\n",
    "# # Extract data values\n",
    "# x = data_values[:, 0]\n",
    "# N = len(x)  # Number of data points\n",
    "\n",
    "# # Fit Gaussian and Laplace distributions\n",
    "# mu_gauss, sigma_gauss = norm.fit(x)\n",
    "# mu_laplace, b_laplace = laplace.fit(x)\n",
    "\n",
    "# # Fisher uncertainty for Gaussian mean (mu)\n",
    "# fisher_uncertainty_gauss = sigma_gauss / np.sqrt(N)\n",
    "\n",
    "# # Fisher uncertainty for Laplace mean (mu)\n",
    "# fisher_uncertainty_laplace = b_laplace / np.sqrt(N)\n",
    "\n",
    "# # Print the Fisher uncertainties\n",
    "# print(f\"Gaussian Mean Fisher Uncertainty: {fisher_uncertainty_gauss:.3f}\")\n",
    "# print(f\"Laplace Mean Fisher Uncertainty: {fisher_uncertainty_laplace:.3f}\")\n"
   ]
  },
  {
   "cell_type": "code",
   "execution_count": 190,
   "metadata": {
    "jupyter": {
     "source_hidden": true
    }
   },
   "outputs": [],
   "source": [
    "# import numpy as np\n",
    "# import matplotlib.pyplot as plt\n",
    "# from scipy.stats import laplace\n",
    "\n",
    "# # Extract data values (first column)\n",
    "# x = data_values[:, 0]\n",
    "# N = len(x)  # Number of data points\n",
    "\n",
    "# # Number of bootstrap samples\n",
    "# n_bootstrap = 1000\n",
    "\n",
    "# # Initialize an array to store the Laplace means\n",
    "# laplace_means = np.empty(n_bootstrap)\n",
    "\n",
    "# # Perform bootstrap resampling and fit Laplace mean for each sample\n",
    "# for i in range(n_bootstrap):\n",
    "#     # Resample data with replacement\n",
    "#     bootstrap_sample = np.random.choice(x, size=N, replace=True)\n",
    "    \n",
    "#     # Fit Laplace distribution to the resampled data\n",
    "#     mu_laplace, b_laplace = laplace.fit(bootstrap_sample)\n",
    "    \n",
    "#     # Store the Laplace mean for this bootstrap sample\n",
    "#     laplace_means[i] = mu_laplace\n",
    "\n",
    "# # Plot histogram of Laplace means from bootstrap samples\n",
    "# plt.figure(figsize=(8, 6))\n",
    "# plt.hist(laplace_means, bins=30, density=True, alpha=0.7, color='gray', edgecolor='black')\n",
    "\n",
    "# # Add title and labels\n",
    "# plt.title('Histogram of Laplace Means from Bootstrap Resampling', fontsize=14)\n",
    "# plt.xlabel('Laplace Mean', fontsize=12)\n",
    "# plt.ylabel('Density', fontsize=12)\n",
    "# plt.grid(True)\n",
    "# plt.show()\n",
    "\n",
    "# # Display mean and standard deviation of the Laplace means\n",
    "# print(f\"Bootstrap Mean of Laplace Means: {np.mean(laplace_means):.3f}\")\n",
    "# print(f\"Bootstrap Std Dev of Laplace Means: {np.std(laplace_means):.3f}\")\n"
   ]
  },
  {
   "cell_type": "code",
   "execution_count": 191,
   "metadata": {
    "jupyter": {
     "source_hidden": true
    }
   },
   "outputs": [],
   "source": [
    "# import numpy as np\n",
    "# import matplotlib.pyplot as plt\n",
    "# from scipy.stats import laplace\n",
    "\n",
    "# # Extract data values\n",
    "# x = data_values[:, 0]\n",
    "# N = len(x)  # Number of data points\n",
    "\n",
    "# # Fit Laplace distribution to the original dataset\n",
    "# mu_laplace, b_laplace = laplace.fit(x)\n",
    "\n",
    "# # Fisher uncertainty for Laplace mean\n",
    "# fisher_uncertainty_laplace = b_laplace / np.sqrt(N)\n",
    "\n",
    "# # Number of bootstrap samples\n",
    "# n_bootstrap = 1000\n",
    "\n",
    "# # Store Laplace means from bootstrap samples\n",
    "# laplace_means = np.empty(n_bootstrap)\n",
    "\n",
    "# # Perform bootstrap resampling\n",
    "# for i in range(n_bootstrap):\n",
    "#     bootstrap_sample = np.random.choice(x, size=N, replace=True)\n",
    "#     mu_bootstrap, _ = laplace.fit(bootstrap_sample)\n",
    "#     laplace_means[i] = mu_bootstrap\n",
    "\n",
    "# # Compute bootstrap uncertainty (standard deviation of bootstrapped means)\n",
    "# bootstrap_uncertainty = np.std(laplace_means)\n",
    "\n",
    "# # Plot histogram of bootstrapped Laplace means\n",
    "# plt.figure(figsize=(8, 6))\n",
    "# plt.hist(laplace_means, bins=30, density=True, alpha=0.7, color='gray', edgecolor='black')\n",
    "# plt.axvline(mu_laplace, color='blue', linestyle='dashed', linewidth=2, label=f\"Laplace Mean: {mu_laplace:.3f}\")\n",
    "# plt.axvline(mu_laplace - fisher_uncertainty_laplace, color='red', linestyle='dashed', linewidth=2, label=f\"Fisher ± {fisher_uncertainty_laplace:.3f}\")\n",
    "# plt.axvline(mu_laplace + fisher_uncertainty_laplace, color='red', linestyle='dashed', linewidth=2)\n",
    "# plt.axvline(mu_laplace - bootstrap_uncertainty, color='green', linestyle='dotted', linewidth=2, label=f\"Bootstrap ± {bootstrap_uncertainty:.3f}\")\n",
    "# plt.axvline(mu_laplace + bootstrap_uncertainty, color='green', linestyle='dotted', linewidth=2)\n",
    "\n",
    "# # Labels and legend\n",
    "# plt.title('Bootstrap Distribution of Laplace Means', fontsize=14)\n",
    "# plt.xlabel('Laplace Mean', fontsize=12)\n",
    "# plt.ylabel('Density', fontsize=12)\n",
    "# plt.legend()\n",
    "# plt.grid(True)\n",
    "# plt.show()\n",
    "\n",
    "# # Print comparison\n",
    "# print(f\"Fisher Uncertainty of Laplace Mean: {fisher_uncertainty_laplace:.3f}\")\n",
    "# print(f\"Bootstrap Std Dev of Laplace Mean: {bootstrap_uncertainty:.3f}\")\n",
    "\n",
    "# # Compare results\n",
    "# if np.isclose(fisher_uncertainty_laplace, bootstrap_uncertainty, atol=0.01):\n",
    "#     print(\"Fisher uncertainty and bootstrap uncertainty are approximately equal.\")\n",
    "# elif fisher_uncertainty_laplace < bootstrap_uncertainty:\n",
    "#     print(\"Bootstrap uncertainty is larger, suggesting more variation in resampled data.\")\n",
    "# else:\n",
    "#     print(\"Fisher uncertainty is larger, suggesting the theoretical model underestimates uncertainty.\")\n"
   ]
  },
  {
   "cell_type": "code",
   "execution_count": null,
   "metadata": {},
   "outputs": [],
   "source": []
  }
 ],
 "metadata": {
  "anaconda-cloud": {},
  "kernelspec": {
   "display_name": "Python 3 (ipykernel)",
   "language": "python",
   "name": "python3"
  },
  "language_info": {
   "codemirror_mode": {
    "name": "ipython",
    "version": 3
   },
   "file_extension": ".py",
   "mimetype": "text/x-python",
   "name": "python",
   "nbconvert_exporter": "python",
   "pygments_lexer": "ipython3",
   "version": "3.9.21"
  }
 },
 "nbformat": 4,
 "nbformat_minor": 4
}
