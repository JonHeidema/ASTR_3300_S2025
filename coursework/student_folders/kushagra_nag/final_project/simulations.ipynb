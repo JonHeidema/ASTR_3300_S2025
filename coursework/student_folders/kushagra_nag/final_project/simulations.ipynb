{
 "cells": [
  {
   "cell_type": "code",
   "execution_count": null,
   "id": "f490c325-a7e8-43fd-90a3-9f77558def00",
   "metadata": {},
   "outputs": [],
   "source": [
    "import numpy as np\n",
    "import matplotlib.pyplot as plt\n",
    "from astropy import constants as const\n",
    "import scipy.special as special\n",
    "import tqdm as tqdm"
   ]
  },
  {
   "cell_type": "code",
   "execution_count": null,
   "id": "bfd6ced3-359d-44f0-9355-83e039045731",
   "metadata": {},
   "outputs": [],
   "source": [
    "#### Our model\n",
    "pc = (const.pc).value\n",
    "Gpc = pow(10,9)*pc\n",
    "M_sun = (const.M_sun).value\n",
    "G = (const.G).value\n",
    "c = (const.c).value\n",
    "#### Defining the model\n",
    "def echo(frequency_array, R, d, M, D, wr, wi, alpha, t_0, phi):\n",
    "\n",
    "    \n",
    "    w = 2 * np.pi * frequency_array\n",
    "    \n",
    "    \n",
    "    Zp = np.sqrt(np.pi/2) * (M/D) * (M_sun/Gpc) * np.float64(G/(c**2)) * (np.exp(1j*(w-(1j*wi)/(M*(M_sun*(G/(c**3)))))*t_0)*(1+R)*special.gamma(1-((1j*w)/(alpha/(M*(M_sun*(G/(c**3)))))))*(((wr/(M*(M_sun*(G/(c**3)))))*np.sin(((wr/(M*(M_sun*(G/(c**3)))))*t_0)+phi)+((1j*(w-(1j*wi)/(M*(M_sun*(G/(c**3))))))*np.cos((wr/(M*(M_sun*(G/(c**3))))*t_0)+phi))))/\n",
    "                                                                          ((((w-(1j*wi)/(M*(M_sun*(G/(c**3)))))*(w-(1j*wi)/(M*(M_sun*(G/(c**3))))))-((wr/(M*(M_sun*(G/(c**3)))))**2))*((np.pi*special.gamma(1-((1j*w)/(alpha/(M*(M_sun*(G/(c**3))))))))+(np.exp(2j*d*(M*(M_sun*(G/(c**3))))*w)*R*np.cosh((np.pi*wr)/alpha)*special.gamma((1/2)-(1j*(w+(wr/(M*(M_sun*(G/(c**3))))))/(alpha/(M*(M_sun*(G/(c**3)))))))*special.gamma((1/2)-(1j*(w-(wr/(M*(M_sun*(G/(c**3))))))/(alpha/(M*(M_sun*(G/(c**3)))))))*special.gamma(1+((1j*w)/(alpha/(M*(M_sun*(G/(c**3)))))))))))\n",
    "\n",
    "    return Zp"
   ]
  },
  {
   "cell_type": "code",
   "execution_count": null,
   "id": "9c2e09ba-fd08-44ef-90f9-5fb0c2220501",
   "metadata": {},
   "outputs": [],
   "source": [
    "#### Defining a frequency range and other required variables to store the signal\n",
    "freq_range = np.linspace(1, 10000, 100000)\n",
    "bh_signal = np.zeros(freq_range.size, dtype='complex')\n",
    "signal_rp5 = np.zeros(freq_range.size, dtype='complex')\n",
    "signal_rp9 = np.zeros(freq_range.size, dtype='complex')\n",
    "signal_rp9_d50 = np.zeros(freq_range.size, dtype='complex')\n",
    "\n",
    "#### Simulating...\n",
    "for i in tqdm.tqdm(range(len(freq_range))):\n",
    "    bh_signal[i] = echo(frequency_array=freq_range[i], R=0.0, d=0, M=63, D=0.4, wr=0.3737, wi=-0.08896, alpha=0.2161, t_0=-0.001, phi=0)\n",
    "    signal_rp5[i] = echo(frequency_array=freq_range[i], R=0.5, d=100, M=63, D=0.4, wr=0.3737, wi=-0.08896, alpha=0.2161, t_0=-0.001, phi=0) #np.zeros(freq_range.size)\n",
    "    signal_rp9[i] = echo(frequency_array=freq_range[i], R=0.9, d=100, M=63, D=0.4, wr=0.3737, wi=-0.08896, alpha=0.2161, t_0=-0.001, phi=0)\n",
    "    signal_rp9_d50[i] = echo(frequency_array=freq_range[i], R=0.9, d=50, M=63, D=0.4, wr=0.3737, wi=-0.08896, alpha=0.2161, t_0=-0.001, phi=0)"
   ]
  },
  {
   "cell_type": "code",
   "execution_count": null,
   "id": "22d23cf9-b43d-44f2-9ec5-fadb1e6fe8fd",
   "metadata": {},
   "outputs": [],
   "source": [
    "#### Defining the time array and required variables to store the signal\n",
    "t_range = np.linspace(-20000, 20000, 100000)*(63.0*(M_sun*(G/(c**3))))\n",
    "w_range = 2*np.pi*freq_range\n",
    "dw = (w_range[len(w_range)-1]-w_range[0])/len(w_range)\n",
    "\n",
    "signal_time_bh = np.zeros(t_range.size)\n",
    "signal_time_rp5 = np.zeros(t_range.size)\n",
    "signal_time_rp9 = np.zeros(t_range.size)\n",
    "signal_time_rp9_d50 = np.zeros(t_range.size)\n",
    "\n",
    "for i in tqdm.tqdm(range(len(t_range)), desc='Cal. time domain', leave=False):\n",
    "    \n",
    "    signal_time_bh[i] = (1/np.sqrt(2*np.pi))*(bh_signal*np.exp(-1j*w_range*t_range[i])*dw).sum()\n",
    "    signal_time_rp5[i] = (1/np.sqrt(2*np.pi))*(signal_rp5*np.exp(-1j*w_range*t_range[i])*dw).sum()\n",
    "    signal_time_rp9[i] = (1/np.sqrt(2*np.pi))*(signal_rp9*np.exp(-1j*w_range*t_range[i])*dw).sum()\n",
    "    signal_time_rp9_d50[i] = (1/np.sqrt(2*np.pi))*(signal_rp9_d50*np.exp(-1j*w_range*t_range[i])*dw).sum()"
   ]
  },
  {
   "cell_type": "code",
   "execution_count": null,
   "id": "bf063d72-996c-4a4c-afda-5431a268bd61",
   "metadata": {},
   "outputs": [],
   "source": [
    "#### Plotting the simulations\n",
    "fig, (ax1, ax2) = plt.subplots(2, 1, figsize=(13, 8))\n",
    "\n",
    "plt.subplots_adjust(hspace=0.3)\n",
    "\n",
    "ax1.set_title('$M = 63$ $M_{\\\\odot}$ $&$ $D = 410$ Mpc')\n",
    "\n",
    "ax1.plot(H1.frequency_array, H1.amplitude_spectral_density_array, ls='-', c='tab:orange', alpha=0.3)\n",
    "ax1.plot(freq_range, np.sqrt(freq_range)*np.abs(bh_signal), ls=':', c='k', label='BH: $\\\\mathcal{R} = 0$')\n",
    "ax1.plot(freq_range, np.sqrt(freq_range)*np.abs(signal_rp5), ls='--', c='tab:green', label='$\\\\mathcal{R} = 0.5$')\n",
    "ax1.plot(freq_range, np.sqrt(freq_range)*np.abs(signal_rp9), ls='-', c='tab:blue', label='$\\\\mathcal{R} = 0.9$')\n",
    "ax1.plot(freq_range, np.sqrt(freq_range)*np.abs(signal_rp9_d50), c='purple', ls='--', alpha=0.3, label='$\\\\mathcal{R} = 0.9$ $&$ $d=50M$')\n",
    "\n",
    "ax1.set_xlabel('Frequency [Hz]', fontsize=12)\n",
    "ax1.set_ylabel('$|h(f)| \\\\sqrt{f} [Hz^{-1/2}]$', fontsize=12)\n",
    "ax1.set_xscale('log')\n",
    "ax1.set_yscale('log')\n",
    "ax1.legend(framealpha=0.1, handlelength=5, ncols=5, fancybox=True)#handles=custom_lines_ax1, frameon=False)\n",
    "ax1.set_xlim(10, 1000)\n",
    "ax1.set_ylim(1e-24, 1e-20)\n",
    "ax1.text(200, 3e-24, '$H1$ $ASD$', c='tab:orange')\n",
    "ax1.grid(ls=':')\n",
    "\n",
    "\n",
    "\n",
    "ax2.plot(t_range/(63.0*(M_sun*(G/(c**3)))), signal_time_bh, ls=':', c='k', label='BH: $\\\\mathcal{R}=0$')\n",
    "ax2.plot(t_range/(63.0*(M_sun*(G/(c**3)))), signal_time_rp5, ls='--', c='tab:green', label='$\\\\mathcal{R}=0.5$')\n",
    "ax2.plot(t_range/(63.0*(M_sun*(G/(c**3)))), signal_time_rp9, c='tab:blue', label='$\\\\mathcal{R}=0.9$')\n",
    "ax2.plot(t_range/(63.0*(M_sun*(G/(c**3)))), signal_time_rp9_d50, ls='--', c='purple', label='$\\\\mathcal{R}=0.9$ $&$ $d=50M$', alpha=0.3)\n",
    "ax2.set_xlim(-0.1e3, 0.8e3)\n",
    "ax2.set_xlabel('$t/M$', fontsize=12)\n",
    "ax2.set_ylabel('$h(t)$', fontsize=12)\n",
    "ax2.legend(framealpha=0.1, handlelength=5, ncols=4, fancybox=True)\n",
    "ax2.grid(ls=':')\n",
    "\n",
    "#plt.savefig('./Simulation_63M_410Mpc.png', dpi=300)\n",
    "\n",
    "plt.show()"
   ]
  },
  {
   "cell_type": "code",
   "execution_count": null,
   "id": "4663f746-ce2e-471c-a583-620c5cb6bb6a",
   "metadata": {},
   "outputs": [],
   "source": []
  }
 ],
 "metadata": {
  "kernelspec": {
   "display_name": "Python [conda env:astr3300] *",
   "language": "python",
   "name": "conda-env-astr3300-py"
  },
  "language_info": {
   "codemirror_mode": {
    "name": "ipython",
    "version": 3
   },
   "file_extension": ".py",
   "mimetype": "text/x-python",
   "name": "python",
   "nbconvert_exporter": "python",
   "pygments_lexer": "ipython3",
   "version": "3.12.8"
  }
 },
 "nbformat": 4,
 "nbformat_minor": 5
}
