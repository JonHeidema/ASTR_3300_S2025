{
 "cells": [
  {
   "cell_type": "code",
   "execution_count": null,
   "id": "e15e0930-f589-4be3-b5c8-db821a6ad46c",
   "metadata": {},
   "outputs": [],
   "source": [
    "import numpy as np\n",
    "import matplotlib.pyplot as plt\n",
    "from astropy import constants as const\n",
    "import scipy.special as special\n",
    "import bilby\n",
    "import H1 as get_interf"
   ]
  },
  {
   "cell_type": "code",
   "execution_count": null,
   "id": "80f01343-c61d-4bf0-9a5a-6c4df0dff8df",
   "metadata": {},
   "outputs": [],
   "source": [
    "#### Define time of event in GPS\n",
    "time_of_event=1126259462.4\n",
    "#### Get the data and PSD\n",
    "H1 = get_interf.get_H1(time_of_event=1126259462.4, post_trigger_duration=2, duration=4, psd_duration_multi=32)"
   ]
  },
  {
   "cell_type": "code",
   "execution_count": null,
   "id": "a6bb6e4a-1212-47ae-b0b1-27619502fae8",
   "metadata": {},
   "outputs": [],
   "source": [
    "#### Our model\n",
    "pc = (const.pc).value\n",
    "Gpc = pow(10,9)*pc\n",
    "M_sun = (const.M_sun).value\n",
    "G = (const.G).value\n",
    "c = (const.c).value\n",
    "#### Defining the model\n",
    "def echo(frequency_array, R, d, M, D, wr, wi, alpha, t_0, phi):\n",
    "\n",
    "    \n",
    "    w = 2 * np.pi * frequency_array\n",
    "    \n",
    "    \n",
    "    Zp = np.sqrt(np.pi/2) * (M/D) * (M_sun/Gpc) * np.float64(G/(c**2)) * (np.exp(1j*(w-(1j*wi)/(M*(M_sun*(G/(c**3)))))*t_0)*(1+R)*special.gamma(1-((1j*w)/(alpha/(M*(M_sun*(G/(c**3)))))))*(((wr/(M*(M_sun*(G/(c**3)))))*np.sin(((wr/(M*(M_sun*(G/(c**3)))))*t_0)+phi)+((1j*(w-(1j*wi)/(M*(M_sun*(G/(c**3))))))*np.cos((wr/(M*(M_sun*(G/(c**3))))*t_0)+phi))))/\n",
    "                                                                          ((((w-(1j*wi)/(M*(M_sun*(G/(c**3)))))*(w-(1j*wi)/(M*(M_sun*(G/(c**3))))))-((wr/(M*(M_sun*(G/(c**3)))))**2))*((np.pi*special.gamma(1-((1j*w)/(alpha/(M*(M_sun*(G/(c**3))))))))+(np.exp(2j*d*(M*(M_sun*(G/(c**3))))*w)*R*np.cosh((np.pi*wr)/alpha)*special.gamma((1/2)-(1j*(w+(wr/(M*(M_sun*(G/(c**3))))))/(alpha/(M*(M_sun*(G/(c**3)))))))*special.gamma((1/2)-(1j*(w-(wr/(M*(M_sun*(G/(c**3))))))/(alpha/(M*(M_sun*(G/(c**3)))))))*special.gamma(1+((1j*w)/(alpha/(M*(M_sun*(G/(c**3)))))))))))\n",
    "\n",
    "    cross = np.zeros(len(frequency_array))\n",
    "    return {\"plus\": Zp, \"cross\": cross}"
   ]
  },
  {
   "cell_type": "code",
   "execution_count": null,
   "id": "cee77345-b46a-4601-8b4a-27d8cb1d6ef5",
   "metadata": {},
   "outputs": [],
   "source": [
    "#### Define the Likelihood according to what bilby likes\n",
    "class My_Likelihood(bilby.Likelihood):\n",
    "\n",
    "    def __init__(self, interferometers, waveform_generator, priors=None):\n",
    "\n",
    "        super(My_Likelihood, self).__init__(dict())\n",
    "        self.interferometers = interferometers[0]\n",
    "        self.waveform_generator = waveform_generator\n",
    "        self.priors = priors\n",
    "\n",
    "    def priors(self):\n",
    "        return self.priors\n",
    "\n",
    "    def log_likelihood(self):\n",
    "\n",
    "        waveform = self.waveform_generator.frequency_domain_strain(self.parameters)\n",
    "        residual = self.interferometers.frequency_domain_strain - \\\n",
    "                    self.interferometers.get_detector_response(waveform, self.parameters)\n",
    "        psd = self.interferometers.power_spectral_density_array\n",
    "        duration = self.waveform_generator.duration\n",
    "\n",
    "        log_l = -2.0 / duration * np.sum((np.conj(residual)*residual) / psd)\n",
    "        \n",
    "        return log_l.real\n",
    "\n",
    "    def noise_log_likelihood(self):\n",
    "\n",
    "        noise = self.interferometers.frequency_domain_strain\n",
    "        psd = self.interferometers.power_spectral_density_array\n",
    "        duration = self.waveform_generator.duration\n",
    "\n",
    "        log_l = -2.0 / duration * np.sum(np.abs(noise)**2 / psd)\n",
    "        \n",
    "        return log_l.real"
   ]
  },
  {
   "cell_type": "code",
   "execution_count": null,
   "id": "b5445df1-b1c7-4b0a-bb9f-36633bb25562",
   "metadata": {},
   "outputs": [],
   "source": [
    "#### Define the sampling frequency and the data duration\n",
    "sampling_frequency = H1.sampling_frequency\n",
    "duration = H1.duration\n",
    "\n",
    "\n",
    "#### Call the waveform_generator to create our waveform model.\n",
    "waveform = bilby.gw.waveform_generator.WaveformGenerator(\n",
    "    duration=duration,\n",
    "    sampling_frequency=sampling_frequency,\n",
    "    frequency_domain_source_model=echo,\n",
    ")"
   ]
  },
  {
   "cell_type": "code",
   "execution_count": null,
   "id": "b70b70ac-de05-47d3-8ac2-24df21ed1ad2",
   "metadata": {},
   "outputs": [],
   "source": [
    "#### define parameters to inject.\n",
    "injection_parameters = dict(\n",
    "    R=0.5,\n",
    "    d=100,\n",
    "    M=63,\n",
    "    D=0.4,\n",
    "    wr=0.3737,\n",
    "    wi=-0.08896,\n",
    "    alpha=0.2161,\n",
    "    t_0=-0.001,\n",
    "    phi=0.0,\n",
    "    ra=2.19432,\n",
    "    dec=-1.2232,\n",
    "    psi=0.532268,\n",
    "    geocent_time=1126259462.4\n",
    ")\n",
    "\n",
    "\n",
    "#### Inject the signal\n",
    "H1.inject_signal(\n",
    "    waveform_generator=waveform, parameters=injection_parameters, raise_error=False\n",
    ")"
   ]
  },
  {
   "cell_type": "code",
   "execution_count": null,
   "id": "d1f40b4f-e86d-4286-8a08-d1d6f4fe01d7",
   "metadata": {},
   "outputs": [],
   "source": [
    "#### Define the prior for our parameters\n",
    "prior = injection_parameters.copy()\n",
    "prior['R'] = bilby.core.prior.Uniform(name='Reflection', minimum=0.3,maximum=0.8)\n",
    "prior['d'] = bilby.core.prior.Uniform(name='Compactness', minimum=80, maximum=120)\n",
    "prior['M'] = bilby.core.prior.Uniform(name=\"Mass\", minimum=40, maximum=80, unit=\"$M_{sun}$\")\n",
    "prior['D'] = bilby.core.prior.Uniform(name=\"Luminosity Distance\", minimum=0.2, maximum=0.6, unit=\"$Gpc$\")"
   ]
  },
  {
   "cell_type": "code",
   "execution_count": null,
   "id": "35b2b70d-27eb-4bce-8509-539ca3345be3",
   "metadata": {},
   "outputs": [],
   "source": [
    "#### Instantiate the Likelihood\n",
    "likelihood = My_Likelihood(interferometers=[H1], waveform_generator=waveform, priors=prior)"
   ]
  },
  {
   "cell_type": "code",
   "execution_count": null,
   "id": "eaae62a0-9afb-4608-b430-6ff8bbd6b816",
   "metadata": {},
   "outputs": [],
   "source": [
    "#### launch sampler\n",
    "result = bilby.core.sampler.run_sampler(\n",
    "    likelihood,\n",
    "    prior,\n",
    "    sampler=\"dynesty\",\n",
    "    npoints=500,\n",
    "    walks=5,\n",
    "    nact=3,\n",
    "    injection_parameters=injection_parameters,\n",
    "    outdir=\"Inject_recover\",\n",
    "    label=\"Echo_recover\",\n",
    "    dlogz=0.01\n",
    ")\n",
    "\n",
    "#### This will automatically show the signal-to-noise Bayes factor\n",
    "#### Plot the corner plot\n",
    "result.plot_corner()"
   ]
  },
  {
   "cell_type": "code",
   "execution_count": null,
   "id": "bd107a14-3959-4739-8cef-39d66264a06e",
   "metadata": {},
   "outputs": [],
   "source": [
    "#### Plot the recovered signal\n",
    "idxs = likelihood.interferometers[0].strain_data.frequency_mask  # This is a boolean mask of the frequencies which we'll use in the analysis\n",
    "plt.figure(figsize=(10, 6))\n",
    "plt.loglog(likelihood.interferometers[0].frequency_array[idxs],\n",
    "          likelihood.interferometers[0].amplitude_spectral_density_array[idxs], label='H1 ASD', alpha=0.5, color='blue')\n",
    "plt.loglog(waveform.frequency_array[idxs], np.sqrt(waveform.frequency_array[idxs])*\n",
    "           np.abs(waveform.frequency_domain_strain()['plus'][idxs]), label='Recoverd template', color='red')\n",
    "plt.fill_between(waveform.frequency_array[idxs], np.sqrt(waveform.frequency_array[idxs])*\n",
    "                 np.abs(waveform.frequency_domain_source_model(waveform.frequency_array, 0.45-0.05, 100.61-1.46, 62.71-0.88, \n",
    "                                                               0.37-0.02, 0.3737, -0.08896, 0.2161, 0, 0)['plus'])[idxs], \n",
    "                 np.sqrt(waveform.frequency_array[idxs])*\n",
    "                 np.abs(waveform.frequency_domain_source_model(waveform.frequency_array, 0.45+0.06, 100.61+1.50, 62.71+0.85, \n",
    "                                                               0.37+0.02, 0.3737, -0.08896, 0.2161, 0, 0)['plus'])[idxs],\n",
    "                 alpha=0.6, color='green')\n",
    "\n",
    "plt.xlabel('Frequency [Hz]')\n",
    "plt.legend(framealpha=0.6)\n",
    "plt.ylabel(\"Strain Amplitude\")\n",
    "plt.title(\"Best-Fit template\")\n",
    "plt.grid(True, which=\"both\", ls=\":\")\n",
    "plt.tight_layout()\n",
    "#plt.savefig(\"./Freq_domain_recover_vs_psd.png\", dpi=300)\n",
    "plt.show()"
   ]
  },
  {
   "cell_type": "code",
   "execution_count": null,
   "id": "74a8c699-23a6-4e9a-b726-ee5ff048d1e6",
   "metadata": {},
   "outputs": [],
   "source": [
    "#### Calculate the SNR\n",
    "sig = (1/(2*np.pi))*np.sqrt(waveform.frequency_array[idxs])*np.abs(waveform.frequency_domain_strain()['plus'][idxs])\n",
    "snr = np.sqrt(4/H1.duration * np.sum((likelihood.interferometers[0].frequency_domain_strain[idxs]*np.conj(sig))/\n",
    "                               likelihood.interferometers[0].power_spectral_density_array[idxs]).real)\n",
    "\n",
    "print(\"The SNR:\", snr)"
   ]
  }
 ],
 "metadata": {
  "kernelspec": {
   "display_name": "Python [conda env:astr3300] *",
   "language": "python",
   "name": "conda-env-astr3300-py"
  },
  "language_info": {
   "codemirror_mode": {
    "name": "ipython",
    "version": 3
   },
   "file_extension": ".py",
   "mimetype": "text/x-python",
   "name": "python",
   "nbconvert_exporter": "python",
   "pygments_lexer": "ipython3",
   "version": "3.12.8"
  }
 },
 "nbformat": 4,
 "nbformat_minor": 5
}
