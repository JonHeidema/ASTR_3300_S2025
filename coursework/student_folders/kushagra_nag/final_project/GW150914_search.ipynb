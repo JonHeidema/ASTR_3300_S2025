{
 "cells": [
  {
   "cell_type": "code",
   "execution_count": null,
   "id": "0761f8c3-7472-4114-b238-2c6720362b03",
   "metadata": {},
   "outputs": [],
   "source": [
    "import numpy as np\n",
    "import matplotlib.pyplot as plt\n",
    "from astropy import constants as const\n",
    "import scipy.special as special\n",
    "import bilby\n",
    "import H1 as get_interf"
   ]
  },
  {
   "cell_type": "code",
   "execution_count": null,
   "id": "69db95d1-0f09-4788-97c8-1dbb06340950",
   "metadata": {},
   "outputs": [],
   "source": [
    "#### Define time of event in GPS\n",
    "time_of_event=1126259462.4\n",
    "#### Get the data and PSD\n",
    "H1 = get_interf.get_H1(time_of_event=1126259462.4, post_trigger_duration=2, duration=4, psd_duration_multi=32)"
   ]
  },
  {
   "cell_type": "code",
   "execution_count": null,
   "id": "58ec8092-c250-437a-8d4d-fcc357a948fb",
   "metadata": {},
   "outputs": [],
   "source": [
    "#### Our model\n",
    "pc = (const.pc).value\n",
    "Gpc = pow(10,9)*pc\n",
    "M_sun = (const.M_sun).value\n",
    "G = (const.G).value\n",
    "c = (const.c).value\n",
    "#### Defining the model\n",
    "def echo(frequency_array, R, d, M, D, wr, wi, alpha, t_0, phi):\n",
    "\n",
    "    \n",
    "    w = 2 * np.pi * frequency_array\n",
    "    \n",
    "    \n",
    "    Zp = np.sqrt(np.pi/2) * (M/D) * (M_sun/Gpc) * np.float64(G/(c**2)) * (np.exp(1j*(w-(1j*wi)/(M*(M_sun*(G/(c**3)))))*t_0)*(1+R)*special.gamma(1-((1j*w)/(alpha/(M*(M_sun*(G/(c**3)))))))*(((wr/(M*(M_sun*(G/(c**3)))))*np.sin(((wr/(M*(M_sun*(G/(c**3)))))*t_0)+phi)+((1j*(w-(1j*wi)/(M*(M_sun*(G/(c**3))))))*np.cos((wr/(M*(M_sun*(G/(c**3))))*t_0)+phi))))/\n",
    "                                                                          ((((w-(1j*wi)/(M*(M_sun*(G/(c**3)))))*(w-(1j*wi)/(M*(M_sun*(G/(c**3))))))-((wr/(M*(M_sun*(G/(c**3)))))**2))*((np.pi*special.gamma(1-((1j*w)/(alpha/(M*(M_sun*(G/(c**3))))))))+(np.exp(2j*d*(M*(M_sun*(G/(c**3))))*w)*R*np.cosh((np.pi*wr)/alpha)*special.gamma((1/2)-(1j*(w+(wr/(M*(M_sun*(G/(c**3))))))/(alpha/(M*(M_sun*(G/(c**3)))))))*special.gamma((1/2)-(1j*(w-(wr/(M*(M_sun*(G/(c**3))))))/(alpha/(M*(M_sun*(G/(c**3)))))))*special.gamma(1+((1j*w)/(alpha/(M*(M_sun*(G/(c**3)))))))))))\n",
    "\n",
    "    cross = np.zeros(len(frequency_array))\n",
    "    return {\"plus\": Zp, \"cross\": cross}"
   ]
  },
  {
   "cell_type": "code",
   "execution_count": null,
   "id": "f8faaf57-d1d9-4008-9077-44822532f6a9",
   "metadata": {},
   "outputs": [],
   "source": [
    "#### Define the Likelihood according to what bilby likes\n",
    "class My_Likelihood(bilby.Likelihood):\n",
    "\n",
    "    def __init__(self, interferometers, waveform_generator, priors=None):\n",
    "\n",
    "        super(My_Likelihood, self).__init__(dict())\n",
    "        self.interferometers = interferometers[0]\n",
    "        self.waveform_generator = waveform_generator\n",
    "        self.priors = priors\n",
    "\n",
    "    def priors(self):\n",
    "        return self.priors\n",
    "\n",
    "    def log_likelihood(self):\n",
    "\n",
    "        waveform = self.waveform_generator.frequency_domain_strain(self.parameters)\n",
    "        residual = self.interferometers.frequency_domain_strain - \\\n",
    "                    self.interferometers.get_detector_response(waveform, self.parameters)\n",
    "        psd = self.interferometers.power_spectral_density_array\n",
    "        duration = self.waveform_generator.duration\n",
    "\n",
    "        log_l = -2.0 / duration * np.sum((np.conj(residual)*residual) / psd)\n",
    "        \n",
    "        return log_l.real\n",
    "\n",
    "    def noise_log_likelihood(self):\n",
    "\n",
    "        noise = self.interferometers.frequency_domain_strain\n",
    "        psd = self.interferometers.power_spectral_density_array\n",
    "        duration = self.waveform_generator.duration\n",
    "\n",
    "        log_l = -2.0 / duration * np.sum(np.abs(noise)**2 / psd)\n",
    "        \n",
    "        return log_l.real"
   ]
  },
  {
   "cell_type": "code",
   "execution_count": null,
   "id": "44978017-ec56-475d-9dad-a8637416a629",
   "metadata": {},
   "outputs": [],
   "source": [
    "#### Define the sampling frequency and the data duration\n",
    "sampling_frequency = H1.sampling_frequency\n",
    "duration = H1.duration\n",
    "\n",
    "\n",
    "#### Call the waveform_generator to create our waveform model.\n",
    "waveform = bilby.gw.waveform_generator.WaveformGenerator(\n",
    "    duration=duration,\n",
    "    sampling_frequency=sampling_frequency,\n",
    "    frequency_domain_source_model=echo\n",
    ")"
   ]
  },
  {
   "cell_type": "code",
   "execution_count": null,
   "id": "2d317979-20fc-4a15-9c16-603b93e2d03a",
   "metadata": {},
   "outputs": [],
   "source": [
    "prior = bilby.core.prior.PriorDict()\n",
    "prior['R'] = bilby.core.prior.Uniform(name='Reflection', minimum=0.0,maximum=1.0)\n",
    "prior['d'] = bilby.core.prior.Uniform(name='Compactness', minimum=0.0, maximum=70.0)\n",
    "prior['M'] = bilby.core.prior.Uniform(name=\"Mass\", minimum=10, maximum=80, unit=\"$M_{sun}$\")\n",
    "prior['D'] = bilby.core.prior.Uniform(name=\"Luminosity Distance\", minimum=0.1, maximum=1.0, unit=\"$Gpc$\")\n",
    "prior['wr'] =  0.3737 \n",
    "prior['wi'] =  -0.08896 \n",
    "prior['alpha'] =  0.2161 \n",
    "prior['t_0'] =  -0.001 \n",
    "prior['phi'] =  0.0\n",
    "## Specifying the parameters of antenna pattern\n",
    "prior['ra'] = 2.19432\n",
    "prior['dec'] = -1.2232\n",
    "prior['psi'] = 0.532268\n",
    "prior['geocent_time'] = time_of_event"
   ]
  },
  {
   "cell_type": "code",
   "execution_count": null,
   "id": "f6e4057c-6421-4081-b91b-33a65e5aca16",
   "metadata": {},
   "outputs": [],
   "source": [
    "#### Instantiate the Likelihood\n",
    "likelihood = My_Likelihood(interferometers=[H1], waveform_generator=waveform, priors=prior)"
   ]
  },
  {
   "cell_type": "code",
   "execution_count": null,
   "id": "59f70038-7b1c-46e7-99b3-f4b70700e8dc",
   "metadata": {},
   "outputs": [],
   "source": [
    "#### launch sampler\n",
    "result2 = bilby.core.sampler.run_sampler(\n",
    "    likelihood,\n",
    "    prior,\n",
    "    sampler=\"dynesty\",\n",
    "    npoints=500,\n",
    "    walks=5,\n",
    "    nact=3,\n",
    "    outdir=\"GW150914_search\",\n",
    "    label=\"ECHO_search\",\n",
    "    dlogz=0.01\n",
    ")\n",
    "\n",
    "\n",
    "#### This will automatically show the signal-to-noise Bayes factor\n",
    "#### Plot the corner plot\n",
    "result.plot_corner()"
   ]
  },
  {
   "cell_type": "code",
   "execution_count": null,
   "id": "7daabb67-e9cb-45c7-bb04-1372254536fc",
   "metadata": {},
   "outputs": [],
   "source": [
    "#### Plot the recovered signal\n",
    "idxs = H1.strain_data.frequency_mask  # This is a boolean mask of the frequencies which we'll use in the analysis\n",
    "plt.figure(figsize=(10, 6))\n",
    "plt.loglog(H1.frequency_array[idxs], \n",
    "          H1.amplitude_spectral_density_array[idxs], label='H1 ASD', alpha=0.5, color='blue')\n",
    "plt.loglog(waveform.frequency_array[idxs], np.sqrt(waveform.frequency_array[idxs])*\n",
    "           np.abs(waveform.frequency_domain_strain()['plus'][idxs]), label='Best-Fit', color='tab:red')\n",
    "plt.fill_between(waveform.frequency_array[idxs], np.sqrt(waveform.frequency_array[idxs])*\n",
    "                 np.abs(waveform.frequency_domain_source_model(waveform.frequency_array, 0.92-0.04, 35.88-1.78, 15.83-0.52, \n",
    "                                                               0.78-0.15, 0.3737, -0.08896, 0.2161, -0.001, 0)['plus'])[idxs], \n",
    "                 np.sqrt(waveform.frequency_array[idxs])*\n",
    "                 np.abs(waveform.frequency_domain_source_model(waveform.frequency_array, 0.92+0.03, 35.88+1.23, 15.83+0.81, \n",
    "                                                               0.78+0.14, 0.3737, -0.08896, 0.2161, -0.001, 0)['plus'])[idxs],\n",
    "                 alpha=0.6, color='tab:green')\n",
    "\n",
    "plt.xlabel('Frequency [Hz]')\n",
    "plt.legend(framealpha=0.6)\n",
    "plt.ylabel(\"Strain Amplitude\")\n",
    "plt.title(\"Best-Fit template\")\n",
    "plt.grid(True, which=\"both\", ls=\":\")\n",
    "plt.tight_layout()\n",
    "#plt.savefig(\"./Freq_domain_bestfit_vs_psd.png\", dpi=300)\n",
    "plt.show()"
   ]
  },
  {
   "cell_type": "code",
   "execution_count": null,
   "id": "f51b9063-4d72-431d-a98e-e1614e9016dc",
   "metadata": {},
   "outputs": [],
   "source": [
    "#### Calculate the SNR\n",
    "sig = (1/(2*np.pi))*np.sqrt(waveform.frequency_array[idxs])*np.abs(waveform.frequency_domain_strain()['plus'][idxs])\n",
    "snr = np.sqrt(4/H1.duration * np.sum((likelihood.interferometers[0].frequency_domain_strain[idxs]*np.conj(sig))/\n",
    "                               likelihood.interferometers[0].power_spectral_density_array[idxs]).real)\n",
    "\n",
    "print(\"The SNR:\", snr)"
   ]
  }
 ],
 "metadata": {
  "kernelspec": {
   "display_name": "Python [conda env:astr3300] *",
   "language": "python",
   "name": "conda-env-astr3300-py"
  },
  "language_info": {
   "codemirror_mode": {
    "name": "ipython",
    "version": 3
   },
   "file_extension": ".py",
   "mimetype": "text/x-python",
   "name": "python",
   "nbconvert_exporter": "python",
   "pygments_lexer": "ipython3",
   "version": "3.12.8"
  }
 },
 "nbformat": 4,
 "nbformat_minor": 5
}
