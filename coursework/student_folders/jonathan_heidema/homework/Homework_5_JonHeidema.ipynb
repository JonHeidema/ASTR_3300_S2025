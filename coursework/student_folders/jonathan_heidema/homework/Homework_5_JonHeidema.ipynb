{
 "cells": [
  {
   "cell_type": "markdown",
   "metadata": {},
   "source": [
    "### ASTR 8070: Astrostatistics\n",
    "***N. Pol***\n",
    "___\n",
    "\n",
    "# Homework 5\n",
    "### Due: Friday, Mar 7nd at 11.59pm CST\n",
    "---"
   ]
  },
  {
   "cell_type": "markdown",
   "metadata": {},
   "source": [
    "## Only one problem this week\n",
    "\n",
    "This problem uses a dataset in `/coursework/homeworks/hw_data/`.\n",
    "\n",
    "1) Read in `hw5_data_1.npy`. This is a (100 x 3) numpy array, containing some time-series measurements. It could be flux measurements from a star or some other transient. The first column is time (arbitrary units), the second column is the flux (arbitrary units), and the third column are homoescedastic measurement uncertainties on the flux. Plot this data with the uncertainties.\n",
    "\n",
    "2) One possible model for this data is a sharp burst with an exponential tail rising above a nominal background level. This model can be described as:\n",
    "\n",
    "$y = b$, for $t<t_0$\n",
    "\n",
    "$y = b + A\\exp[-\\alpha(t-t_0)]$, for $t\\geq t_0$\n",
    "\n",
    "where $b$ is the background amplitude, $A$ is the burst amplitude, $t_0$ is the burst epoch, and $\\alpha$ encodes how rapidly the burst dies off.\n",
    "\n",
    "Code this burst model, and code a likelihood function for this data with the burst model. *Hint: This is similar in spirit to the likelihood when fitting polynomials to data, except now $x$ is time, and the polynomial model is now the burst model.* \n",
    "\n",
    "3) Using one of the MCMC codes that we looked at in class (`emcee`, `pymc3`, `PTMCMCSampler`) perform a Bayesian analysis that recovers an MCMC chain of posterior probability samples for the joint parameter space of $\\{b,A,t_0,\\alpha\\}$. You must decide on how many samples are appropriate for running your MCMC. For your priors, make them $b\\in \\mathrm{Uniform}[0,50]$, $A\\in \\mathrm{Uniform}[0,50]$, $t_0\\in \\mathrm{Uniform}[0,100]$, and $\\ln\\alpha\\in \\mathrm{Uniform}[-5,5]$.\n",
    "\n",
    "4) Perform an appropriate check to burn-in your chain, and thin the chain by selecting only points every auto-correlation length. If you are left with a small number of samples after thinning then you may need to run your MCMC for longer in (3).\n",
    "\n",
    "5) Make a corner plot of the $4$-D parameter space, with labels, $[68,95]\\%$ credible levels and quantiles, and titles.\n",
    "\n",
    "6) Now choose $100$ samples randomly from your burned, thinned chain and plot the $100$ corresponding burst time-series on a figure along with the original data. You may want to choose a transparency for these $100$ burst curves that allows you to see everything nicely. These are showing the posterior spread of model solutions that are consistent with the data.\n",
    "\n",
    "7) Another possible model that may explain the data is a Gaussian profile described by:\n",
    "\n",
    "$y = b + A\\exp[-(t-t_0)^2 / 2\\sigma_W^2]$\n",
    "\n",
    "The priors for this model are the same as above for the equivalent parameters, and with $\\ln\\sigma_W\\in\\mathrm{Uniform}[-2,2]$. Following the examples from `Lecture 12` and from relevant web tutorials/documentation, use one of the nested sampling packages (`dynesty` or `UltraNest`) to compute the Bayesian evidence for this Gaussian model, and for the original burst model. Compute the Bayes factor, and state which model is the favored description of the data. *Hint: Be careful with how you transform your parameter space into a unit hypercube for the nested sampling priors. An appropriate check on whether you have done things correctly is that the posterior samples you get from the burst analysis here should give an equivalent corner plot to the MCMC you did above.*"
   ]
  },
  {
   "cell_type": "markdown",
   "metadata": {},
   "source": [
    "### Solution"
   ]
  },
  {
   "cell_type": "code",
   "execution_count": 1,
   "metadata": {},
   "outputs": [],
   "source": [
    "import numpy as np\n",
    "import math as math\n",
    "import scipy.stats as stats\n",
    "from scipy import optimize\n",
    "from matplotlib import pyplot as plt\n",
    "import emcee"
   ]
  },
  {
   "cell_type": "code",
   "execution_count": 2,
   "metadata": {},
   "outputs": [
    {
     "data": {
      "image/png": "[encoded data removed]",
      "text/plain": [
       "<Figure size 640x480 with 1 Axes>"
      ]
     },
     "metadata": {},
     "output_type": "display_data"
    }
   ],
   "source": [
    "#1\n",
    "\n",
    "data = np.load('hw5_data_1.npy')\n",
    "x = data[:, 0]\n",
    "y = data[:, 1]\n",
    "unc = data[:, 2]\n",
    "\n",
    "plt.figure()\n",
    "plt.errorbar(x, y, yerr = unc, fmt = '.', capsize = 2)\n",
    "plt.xlabel('Time')\n",
    "plt.ylabel('Flux');"
   ]
  },
  {
   "cell_type": "code",
   "execution_count": 9,
   "metadata": {},
   "outputs": [],
   "source": [
    "#2\n",
    "\n",
    "def Y_burst(spy, x):\n",
    "\n",
    "    x0, b, A, a = spy\n",
    "    y_burst = np.where(x < x0, b, b + (A * np.exp(-a * (x - x0))))\n",
    "    return y_burst\n",
    "\n",
    "def Likelihood(spy, x, y, unc):\n",
    "    \n",
    "    x0, b, A, a = spy\n",
    "    model_burst = Y_burst(spy, x)\n",
    "    likelihood = np.sum(((y - model_burst) / unc) ** 2) / (-2)\n",
    "    return likelihood"
   ]
  },
  {
   "cell_type": "code",
   "execution_count": 10,
   "metadata": {},
   "outputs": [
    {
     "name": "stdout",
     "output_type": "stream",
     "text": [
      "emcee: Exception while calling your likelihood function:\n",
      "  params: [-0.60603737]\n",
      "  args: (array([ 0.46954762,  1.87898004,  2.01075462,  2.02183974,  3.91877923,\n",
      "        6.02254716,  6.41474963,  7.10360582,  8.71292997,  9.39405108,\n",
      "        9.60984079,  9.71012758, 10.20448107, 11.03751412, 11.82744259,\n",
      "       11.8727719 , 12.01965612, 12.89262977, 13.17978624, 13.81829513,\n",
      "       14.33532874, 15.89695836, 16.13095179, 18.3191362 , 19.65823617,\n",
      "       20.88767561, 21.03825611, 24.4425592 , 25.32916025, 26.45556121,\n",
      "       26.53894909, 28.28069626, 28.94060929, 29.61401975, 31.54283509,\n",
      "       31.79831794, 31.85689525, 35.95079006, 36.37107709, 36.87251707,\n",
      "       38.34415188, 41.42629945, 41.466194  , 42.36547993, 43.70319538,\n",
      "       43.75872113, 43.86015135, 45.61503322, 46.14793623, 46.63107729,\n",
      "       46.86512016, 52.18483218, 52.32480535, 52.88949198, 54.4883183 ,\n",
      "       54.88135039, 56.66014542, 56.80445611, 56.84339489, 57.01967704,\n",
      "       57.59464956, 58.65129348, 60.27633761, 60.48455197, 61.20957227,\n",
      "       61.69339969, 61.76354971, 63.99210213, 64.58941131, 65.31083255,\n",
      "       65.63295895, 66.67667154, 66.741038  , 67.06378696, 68.18202991,\n",
      "       69.24721194, 69.76311959, 71.51893664, 71.63272041, 73.92635794,\n",
      "       77.42336894, 77.81567509, 78.05291763, 79.17250381, 79.91585642,\n",
      "       82.09932298, 82.89400292, 83.26198455, 83.79449075, 87.00121482,\n",
      "       89.17730008, 92.55966383, 92.92961976, 94.37480785, 94.4668917 ,\n",
      "       96.36627605, 97.6459465 , 97.67610882, 97.86183422, 98.83738381]), array([ 8.83485016, 10.90082649, 10.46566244,  8.46375631, 11.48825219,\n",
      "       11.89588918, 11.17877957,  9.82007516,  8.92924738, 11.05445173,\n",
      "        9.59682305, 11.22244507, 10.20827498, 10.97663904, 10.3563664 ,\n",
      "       10.70657317, 10.01050002, 11.78587049, 10.12691209, 10.40198936,\n",
      "       11.8831507 ,  8.65224094,  8.729515  , 10.96939671,  8.82687659,\n",
      "       11.94362119,  9.58638102,  9.25254519, 11.92294203, 11.48051479,\n",
      "       11.86755896, 10.90604466,  9.13877431, 11.91006495,  9.73199663,\n",
      "       10.8024564 , 10.94725197,  9.84498991, 10.61407937, 10.92220667,\n",
      "       10.37642553,  8.90059921, 10.29823817, 11.3263859 ,  9.30543214,\n",
      "        9.85036546,  9.56484645, 11.84926373, 10.67229476, 10.40746184,\n",
      "        9.23008393, 14.55793403, 13.28849322, 13.77708185, 12.55602115,\n",
      "       13.74528322, 13.14535102, 12.32365769, 12.9181232 , 11.38498415,\n",
      "       10.84832599, 12.54437717, 11.95593712, 12.38742519, 14.01298288,\n",
      "       12.49733879, 10.62918189, 12.35097529,  9.84650415, 10.61992155,\n",
      "       10.97898152, 12.65677637, 10.19262578, 10.08117121, 10.71313335,\n",
      "       10.06610388, 11.81953283,  9.50138741,  9.42727329, 10.01912238,\n",
      "        9.82406569, 12.23923874, 11.25186641, 10.35796218,  9.02560329,\n",
      "       11.0461597 ,  9.18616564,  8.63487607, 11.35836088, 10.44054523,\n",
      "       11.02028975, 10.38962456, 10.92515257,  9.40810287,  9.02434364,\n",
      "       10.73004613,  9.23922205,  9.35295355,  9.58618871, 10.05532249]), array([1., 1., 1., 1., 1., 1., 1., 1., 1., 1., 1., 1., 1., 1., 1., 1., 1.,\n",
      "       1., 1., 1., 1., 1., 1., 1., 1., 1., 1., 1., 1., 1., 1., 1., 1., 1.,\n",
      "       1., 1., 1., 1., 1., 1., 1., 1., 1., 1., 1., 1., 1., 1., 1., 1., 1.,\n",
      "       1., 1., 1., 1., 1., 1., 1., 1., 1., 1., 1., 1., 1., 1., 1., 1., 1.,\n",
      "       1., 1., 1., 1., 1., 1., 1., 1., 1., 1., 1., 1., 1., 1., 1., 1., 1.,\n",
      "       1., 1., 1., 1., 1., 1., 1., 1., 1., 1., 1., 1., 1., 1., 1.]))\n",
      "  kwargs: {}\n",
      "  exception:\n"
     ]
    },
    {
     "name": "stderr",
     "output_type": "stream",
     "text": [
      "Traceback (most recent call last):\n",
      "  File \"c:\\Users\\heide\\AppData\\Local\\Programs\\Python\\Python311\\Lib\\site-packages\\emcee\\ensemble.py\", line 640, in __call__\n",
      "    return self.f(x, *self.args, **self.kwargs)\n",
      "           ^^^^^^^^^^^^^^^^^^^^^^^^^^^^^^^^^^^^\n",
      "  File \"C:\\Users\\heide\\AppData\\Local\\Temp\\ipykernel_8464\\1577896985.py\", line 13, in Probability\n",
      "    x0, b, A, a = spy\n",
      "    ^^^^^^^^^^^\n",
      "ValueError: not enough values to unpack (expected 4, got 1)\n"
     ]
    },
    {
     "ename": "ValueError",
     "evalue": "not enough values to unpack (expected 4, got 1)",
     "output_type": "error",
     "traceback": [
      "\u001b[1;31m---------------------------------------------------------------------------\u001b[0m",
      "\u001b[1;31mValueError\u001b[0m                                Traceback (most recent call last)",
      "Cell \u001b[1;32mIn[10], line 26\u001b[0m\n\u001b[0;32m     23\u001b[0m start \u001b[38;5;241m=\u001b[39m np\u001b[38;5;241m.\u001b[39mrandom\u001b[38;5;241m.\u001b[39mrandn(n_walker, n_dim)\n\u001b[0;32m     25\u001b[0m Walker \u001b[38;5;241m=\u001b[39m emcee\u001b[38;5;241m.\u001b[39mEnsembleSampler(n_walker, n_dim, Probability, args \u001b[38;5;241m=\u001b[39m (x, y, unc))\n\u001b[1;32m---> 26\u001b[0m \u001b[43mWalker\u001b[49m\u001b[38;5;241;43m.\u001b[39;49m\u001b[43mrun_mcmc\u001b[49m\u001b[43m(\u001b[49m\u001b[43mstart\u001b[49m\u001b[43m,\u001b[49m\u001b[43m \u001b[49m\u001b[43mn_walks\u001b[49m\u001b[43m,\u001b[49m\u001b[43m \u001b[49m\u001b[43mprogress\u001b[49m\u001b[43m \u001b[49m\u001b[38;5;241;43m=\u001b[39;49m\u001b[43m \u001b[49m\u001b[38;5;28;43;01mFalse\u001b[39;49;00m\u001b[43m)\u001b[49m \n",
      "File \u001b[1;32mc:\\Users\\heide\\AppData\\Local\\Programs\\Python\\Python311\\Lib\\site-packages\\emcee\\ensemble.py:450\u001b[0m, in \u001b[0;36mEnsembleSampler.run_mcmc\u001b[1;34m(self, initial_state, nsteps, **kwargs)\u001b[0m\n\u001b[0;32m    447\u001b[0m     initial_state \u001b[38;5;241m=\u001b[39m \u001b[38;5;28mself\u001b[39m\u001b[38;5;241m.\u001b[39m_previous_state\n\u001b[0;32m    449\u001b[0m results \u001b[38;5;241m=\u001b[39m \u001b[38;5;28;01mNone\u001b[39;00m\n\u001b[1;32m--> 450\u001b[0m \u001b[43m\u001b[49m\u001b[38;5;28;43;01mfor\u001b[39;49;00m\u001b[43m \u001b[49m\u001b[43mresults\u001b[49m\u001b[43m \u001b[49m\u001b[38;5;129;43;01min\u001b[39;49;00m\u001b[43m \u001b[49m\u001b[38;5;28;43mself\u001b[39;49m\u001b[38;5;241;43m.\u001b[39;49m\u001b[43msample\u001b[49m\u001b[43m(\u001b[49m\u001b[43minitial_state\u001b[49m\u001b[43m,\u001b[49m\u001b[43m \u001b[49m\u001b[43miterations\u001b[49m\u001b[38;5;241;43m=\u001b[39;49m\u001b[43mnsteps\u001b[49m\u001b[43m,\u001b[49m\u001b[43m \u001b[49m\u001b[38;5;241;43m*\u001b[39;49m\u001b[38;5;241;43m*\u001b[39;49m\u001b[43mkwargs\u001b[49m\u001b[43m)\u001b[49m\u001b[43m:\u001b[49m\n\u001b[0;32m    451\u001b[0m \u001b[43m    \u001b[49m\u001b[38;5;28;43;01mpass\u001b[39;49;00m\n\u001b[0;32m    453\u001b[0m \u001b[38;5;66;03m# Store so that the ``initial_state=None`` case will work\u001b[39;00m\n",
      "File \u001b[1;32mc:\\Users\\heide\\AppData\\Local\\Programs\\Python\\Python311\\Lib\\site-packages\\emcee\\ensemble.py:351\u001b[0m, in \u001b[0;36mEnsembleSampler.sample\u001b[1;34m(self, initial_state, log_prob0, rstate0, blobs0, iterations, tune, skip_initial_state_check, thin_by, thin, store, progress, progress_kwargs)\u001b[0m\n\u001b[0;32m    349\u001b[0m     state\u001b[38;5;241m.\u001b[39mblobs \u001b[38;5;241m=\u001b[39m blobs0\n\u001b[0;32m    350\u001b[0m \u001b[38;5;28;01mif\u001b[39;00m state\u001b[38;5;241m.\u001b[39mlog_prob \u001b[38;5;129;01mis\u001b[39;00m \u001b[38;5;28;01mNone\u001b[39;00m:\n\u001b[1;32m--> 351\u001b[0m     state\u001b[38;5;241m.\u001b[39mlog_prob, state\u001b[38;5;241m.\u001b[39mblobs \u001b[38;5;241m=\u001b[39m \u001b[38;5;28;43mself\u001b[39;49m\u001b[38;5;241;43m.\u001b[39;49m\u001b[43mcompute_log_prob\u001b[49m\u001b[43m(\u001b[49m\u001b[43mstate\u001b[49m\u001b[38;5;241;43m.\u001b[39;49m\u001b[43mcoords\u001b[49m\u001b[43m)\u001b[49m\n\u001b[0;32m    352\u001b[0m \u001b[38;5;28;01mif\u001b[39;00m np\u001b[38;5;241m.\u001b[39mshape(state\u001b[38;5;241m.\u001b[39mlog_prob) \u001b[38;5;241m!=\u001b[39m (\u001b[38;5;28mself\u001b[39m\u001b[38;5;241m.\u001b[39mnwalkers,):\n\u001b[0;32m    353\u001b[0m     \u001b[38;5;28;01mraise\u001b[39;00m \u001b[38;5;167;01mValueError\u001b[39;00m(\u001b[38;5;124m\"\u001b[39m\u001b[38;5;124mincompatible input dimensions\u001b[39m\u001b[38;5;124m\"\u001b[39m)\n",
      "File \u001b[1;32mc:\\Users\\heide\\AppData\\Local\\Programs\\Python\\Python311\\Lib\\site-packages\\emcee\\ensemble.py:496\u001b[0m, in \u001b[0;36mEnsembleSampler.compute_log_prob\u001b[1;34m(self, coords)\u001b[0m\n\u001b[0;32m    494\u001b[0m     \u001b[38;5;28;01melse\u001b[39;00m:\n\u001b[0;32m    495\u001b[0m         map_func \u001b[38;5;241m=\u001b[39m \u001b[38;5;28mmap\u001b[39m\n\u001b[1;32m--> 496\u001b[0m     results \u001b[38;5;241m=\u001b[39m \u001b[38;5;28;43mlist\u001b[39;49m\u001b[43m(\u001b[49m\u001b[43mmap_func\u001b[49m\u001b[43m(\u001b[49m\u001b[38;5;28;43mself\u001b[39;49m\u001b[38;5;241;43m.\u001b[39;49m\u001b[43mlog_prob_fn\u001b[49m\u001b[43m,\u001b[49m\u001b[43m \u001b[49m\u001b[43mp\u001b[49m\u001b[43m)\u001b[49m\u001b[43m)\u001b[49m\n\u001b[0;32m    498\u001b[0m \u001b[38;5;28;01mtry\u001b[39;00m:\n\u001b[0;32m    499\u001b[0m     \u001b[38;5;66;03m# perhaps log_prob_fn returns blobs?\u001b[39;00m\n\u001b[0;32m    500\u001b[0m \n\u001b[1;32m   (...)\u001b[0m\n\u001b[0;32m    504\u001b[0m     \u001b[38;5;66;03m# l is a length-1 array, np.array([1.234]). In that case blob\u001b[39;00m\n\u001b[0;32m    505\u001b[0m     \u001b[38;5;66;03m# will become an empty list.\u001b[39;00m\n\u001b[0;32m    506\u001b[0m     blob \u001b[38;5;241m=\u001b[39m [l[\u001b[38;5;241m1\u001b[39m:] \u001b[38;5;28;01mfor\u001b[39;00m l \u001b[38;5;129;01min\u001b[39;00m results \u001b[38;5;28;01mif\u001b[39;00m \u001b[38;5;28mlen\u001b[39m(l) \u001b[38;5;241m>\u001b[39m \u001b[38;5;241m1\u001b[39m]\n",
      "File \u001b[1;32mc:\\Users\\heide\\AppData\\Local\\Programs\\Python\\Python311\\Lib\\site-packages\\emcee\\ensemble.py:640\u001b[0m, in \u001b[0;36m_FunctionWrapper.__call__\u001b[1;34m(self, x)\u001b[0m\n\u001b[0;32m    638\u001b[0m \u001b[38;5;28;01mdef\u001b[39;00m\u001b[38;5;250m \u001b[39m\u001b[38;5;21m__call__\u001b[39m(\u001b[38;5;28mself\u001b[39m, x):\n\u001b[0;32m    639\u001b[0m     \u001b[38;5;28;01mtry\u001b[39;00m:\n\u001b[1;32m--> 640\u001b[0m         \u001b[38;5;28;01mreturn\u001b[39;00m \u001b[38;5;28;43mself\u001b[39;49m\u001b[38;5;241;43m.\u001b[39;49m\u001b[43mf\u001b[49m\u001b[43m(\u001b[49m\u001b[43mx\u001b[49m\u001b[43m,\u001b[49m\u001b[43m \u001b[49m\u001b[38;5;241;43m*\u001b[39;49m\u001b[38;5;28;43mself\u001b[39;49m\u001b[38;5;241;43m.\u001b[39;49m\u001b[43margs\u001b[49m\u001b[43m,\u001b[49m\u001b[43m \u001b[49m\u001b[38;5;241;43m*\u001b[39;49m\u001b[38;5;241;43m*\u001b[39;49m\u001b[38;5;28;43mself\u001b[39;49m\u001b[38;5;241;43m.\u001b[39;49m\u001b[43mkwargs\u001b[49m\u001b[43m)\u001b[49m\n\u001b[0;32m    641\u001b[0m     \u001b[38;5;28;01mexcept\u001b[39;00m:  \u001b[38;5;66;03m# pragma: no cover\u001b[39;00m\n\u001b[0;32m    642\u001b[0m         \u001b[38;5;28;01mimport\u001b[39;00m\u001b[38;5;250m \u001b[39m\u001b[38;5;21;01mtraceback\u001b[39;00m\n",
      "Cell \u001b[1;32mIn[10], line 13\u001b[0m, in \u001b[0;36mProbability\u001b[1;34m(spy, x, y, unc)\u001b[0m\n\u001b[0;32m     11\u001b[0m \u001b[38;5;28;01mdef\u001b[39;00m\u001b[38;5;250m \u001b[39m\u001b[38;5;21mProbability\u001b[39m(spy, x, y, unc):\n\u001b[1;32m---> 13\u001b[0m     x0, b, A, a \u001b[38;5;241m=\u001b[39m spy\n\u001b[0;32m     14\u001b[0m     prior \u001b[38;5;241m=\u001b[39m Prior(spy)\n\u001b[0;32m     15\u001b[0m     \u001b[38;5;28;01mif\u001b[39;00m \u001b[38;5;129;01mnot\u001b[39;00m np\u001b[38;5;241m.\u001b[39misfinite(prior):\n",
      "\u001b[1;31mValueError\u001b[0m: not enough values to unpack (expected 4, got 1)"
     ]
    }
   ],
   "source": [
    "#3\n",
    "\n",
    "def Prior(spy):\n",
    "\n",
    "    x0, b, A, a = spy\n",
    "    if 0 <= x0 <= 100 and 0 <= b <= 50 and 0 <= A <= 50 and -5 <= a <= 5:\n",
    "        return 0.0\n",
    "    else:\n",
    "        return -np.inf\n",
    "    \n",
    "def Probability(spy, x, y, unc):\n",
    "\n",
    "    x0, b, A, a = spy\n",
    "    prior = Prior(spy)\n",
    "    if not np.isfinite(prior):\n",
    "        return -np.inf\n",
    "    else:\n",
    "        return prior + Likelihood(spy, x, y, unc)\n",
    "    \n",
    "n_dim = 1\n",
    "n_walker = 50\n",
    "n_walks = 10000\n",
    "start = np.random.randn(n_walker, n_dim)\n",
    "\n",
    "Walker = emcee.EnsembleSampler(n_walker, n_dim, Probability, args = (x, y, unc))\n",
    "Walker.run_mcmc(start, n_walks, progress = False) "
   ]
  }
 ],
 "metadata": {
  "anaconda-cloud": {},
  "kernelspec": {
   "display_name": "Python 3",
   "language": "python",
   "name": "python3"
  },
  "language_info": {
   "codemirror_mode": {
    "name": "ipython",
    "version": 3
   },
   "file_extension": ".py",
   "mimetype": "text/x-python",
   "name": "python",
   "nbconvert_exporter": "python",
   "pygments_lexer": "ipython3",
   "version": "3.11.2"
  }
 },
 "nbformat": 4,
 "nbformat_minor": 4
}
