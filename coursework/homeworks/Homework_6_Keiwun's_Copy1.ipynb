{
 "cells": [
  {
   "cell_type": "markdown",
   "metadata": {},
   "source": [
    "### ASTR 8070: Astrostatistics\n",
    "***N. Pol***\n",
    "___\n",
    "\n",
    "# Homework 6\n",
    "### Due: Saturday, Mar 14th at 11.59pm CT\n",
    "---"
   ]
  },
  {
   "cell_type": "markdown",
   "metadata": {},
   "source": [
    "This problem has to do with density estimation and clustering. \n",
    "\n",
    "1. Read in `hw6_data_1.npy`. The dataset should consist of $1000$ samples with $2$ features. Note that the last column are the labels, not another feature. Make a $2$-D scatter plot of the data colored by their labels. \n",
    "\n",
    "\n",
    "2. Start with kernel density estimation on the data set. First, perform a grid search $5$-fold cross-validation to find the best bandwidth, testing $30$ bandwidths between $0.1$ and $1.0$. What is this best bandwidth? Using this best bandwidth, plot the two-dimensional kernel density estimate of the distribution. \n",
    "\n",
    "\n",
    "3. Now try a nearest neighbors approach to estimating the density. Use the Bayesian nearest neighbors option. Plot the estimated distribution. What value of $k$ neighbors do you need to make the plot look similar to your KDE distribution?\n",
    "\n",
    "\n",
    "4. Now fit a Gaussian mixture model. Compute the AIC and BIC for the number of GMM components between $1$ and $10$. Plot these AIC and BIC values as a function of number of components. What is the optimal number according to the BIC? Fit the data set with this optimal number of GMM components, and create a new plot that shows the data set, the GMM component mean locations, and the $2$-sigma GMM component ellipses. *(Use the code below to help with plotting the ellipses.)*"
   ]
  },
  {
   "cell_type": "code",
   "execution_count": 2,
   "metadata": {},
   "outputs": [],
   "source": [
    "import numpy as np\n",
    "import matplotlib.pyplot as plt\n",
    "import emcee\n",
    "\n",
    "data = np.load(r\"C:\\Users\\keitu\\ASTR_3300_S2025\\coursework\\homeworks\\hw_data\\hw6_data_1.npy\")"
   ]
  },
  {
   "cell_type": "code",
   "execution_count": 3,
   "metadata": {},
   "outputs": [],
   "source": [
    "# Kludge to fix the bug with draw_ellipse in astroML\n",
    "from matplotlib.patches import Ellipse\n",
    "\n",
    "def draw_ellipse(mu, C, scales=[1, 2, 3], ax=None, **kwargs):\n",
    "    if ax is None:\n",
    "        ax = plt.gca()\n",
    "\n",
    "    # find principal components and rotation angle of ellipse\n",
    "    sigma_x2 = C[0, 0]\n",
    "    sigma_y2 = C[1, 1]\n",
    "    sigma_xy = C[0, 1]\n",
    "\n",
    "    alpha = 0.5 * np.arctan2(2 * sigma_xy,\n",
    "                          (sigma_x2 - sigma_y2))\n",
    "    tmp1 = 0.5 * (sigma_x2 + sigma_y2)\n",
    "    tmp2 = np.sqrt(0.25 * (sigma_x2 - sigma_y2) ** 2 + sigma_xy ** 2)\n",
    "\n",
    "    sigma1 = np.sqrt(tmp1 + tmp2)\n",
    "    sigma2 = np.sqrt(tmp1 - tmp2)\n",
    "\n",
    "    for scale in scales:\n",
    "        ax.add_patch(Ellipse(xy=(mu[0], mu[1]),\n",
    "                          width=2 * scale * sigma1, height=2 * scale * sigma2,\n",
    "                          angle=alpha * 180. / np.pi,\n",
    "                          **kwargs))"
   ]
  },
  {
   "cell_type": "markdown",
   "metadata": {},
   "source": [
    "5. Now try Kmeans clustering with $5$ clusters. \n",
    "    - Use the `StandardScalar` to scale the data.\n",
    "    - Fit the Kmeans model.\n",
    "    - Find the cluster centers, and then inverse transform thse cluster centers back to the original unscaled coordinates.\n",
    "    - Predict the labels for the scaled data.\n",
    "    - Finally, make a two-panel side by side plot showing (a) the original data colored by its labels, then (b) the data colored by the Kmeans predicted labels, with cluster centers superposed."
   ]
  },
  {
   "cell_type": "markdown",
   "metadata": {},
   "source": [
    "### Solution"
   ]
  },
  {
   "cell_type": "code",
   "execution_count": null,
   "metadata": {},
   "outputs": [],
   "source": [
    "import numpy as np\n",
    "import matplotlib.pyplot as plt\n",
    "import emcee\n",
    "from sklearn.mode_selection import GridSearchCV\n",
    "from sklearn.neighbors import KernelDensity\n",
    "from sklearn.neighbors imiiprt KNeighborsClassifier\n",
    "from sklearn.mixture import GaussianMixture\n",
    "from matplotlib.patches import Ellispse\n",
    "from sklearn.preprocessing import StandScaler\n",
    "from sklearn.cluster import KMeans"
   ]
  },
  {
   "cell_type": "code",
   "execution_count": null,
   "metadata": {},
   "outputs": [],
   "source": [
    "data = np.load(r\"C:\\Users\\keitu\\ASTR_3300_S2025\\coursework\\homeworks\\hw_data\\hw6_data_1.npy\")\n",
    "X, y = data[:, :2], data[:,2]\n",
    "\n",
    "\n",
    "plt.figure(figsize = (6,6))\n",
    "plt.scatter(X[:,, 0], X[:, 1], c = y, cmap = 'viridis', alpha = 0.6)\n",
    "plt.title('Scatter Plot of Dat')\n",
    "plt.xlabel('Feature 1')\n",
    "plt.ylabel('Feature 2')\n",
    "plt.colorbar(label = 'labels')\n",
    "plt.show()"
   ]
  },
  {
   "cell_type": "code",
   "execution_count": null,
   "metadata": {},
   "outputs": [],
   "source": [
    "bandwid = np.linspace(0.1, 1.0, 30)\n",
    "\n",
    "grid = GridSearchCV(KernelDensity(), {'bandwidth': bandwid}, cv = 5)\n",
    "grid.fit(X)\n",
    "best_bandwid = grid.best_params_['bandwidth']\n",
    "\n",
    "\n",
    "kde = kernelDensity(bandwidth = best_bandwid)\n",
    "kde.fit(X)\n",
    "print(f\"Optimal KDE Bandwidth: {best_bandwidth}\")"
   ]
  },
  {
   "cell_type": "code",
   "execution_count": null,
   "metadata": {},
   "outputs": [],
   "source": [
    "k_values = range(1, 30)\n",
    "errors = []\n",
    "\n",
    "for k in k_values:\n",
    "    knn = KNeighborsClaaifier(n_neighbors = k)\n",
    "    knn.fit(X, y)\n",
    "    errors.append(1 - knn.score(X, y))\n",
    "\n",
    "\n",
    "opt_k = k_values[np.argim(errors)]\n",
    "print(f\"Optimal k for kNN: {opt_k}\")\n",
    "\n",
    "\n",
    "n_components = range(1, 11)\n",
    "bics, aics = [], []\n",
    "\n",
    "for n in  n_components:\n",
    "    gmm = GaussianMixture(n_components = n, random_state = 42)\n",
    "    gmm.fit(X)\n",
    "    bics.append(gmm.bic(X))\n",
    "    aics.append(gmm.aic(X))\n",
    "\n",
    "opt_comps = n_components[np.argmin(bics)]\n",
    "gmm = GaussianMixture(n_components = opt_comps, random_state = 42).fit(X)\n",
    "\n",
    "print(f\" Optimal number of Gmm components: {opt_comps}\")\n",
    "\n"
   ]
  },
  {
   "cell_type": "code",
   "execution_count": null,
   "metadata": {},
   "outputs": [],
   "source": [
    "# Kludge to fix the bug with draw_ellipse in astroML\n",
    "from matplotlib.patches import Ellipse\n",
    "\n",
    "def draw_ellipse(mu, C, scales=[1, 2, 3], ax=None, **kwargs):\n",
    "    if ax is None:\n",
    "        ax = plt.gca()\n",
    "\n",
    "    # find principal components and rotation angle of ellipse\n",
    "    sigma_x2 = C[0, 0]\n",
    "    sigma_y2 = C[1, 1]\n",
    "    sigma_xy = C[0, 1]\n",
    "\n",
    "    alpha = 0.5 * np.arctan2(2 * sigma_xy,\n",
    "                          (sigma_x2 - sigma_y2))\n",
    "    tmp1 = 0.5 * (sigma_x2 + sigma_y2)\n",
    "    tmp2 = np.sqrt(0.25 * (sigma_x2 - sigma_y2) ** 2 + sigma_xy ** 2)\n",
    "\n",
    "    sigma1 = np.sqrt(tmp1 + tmp2)\n",
    "    sigma2 = np.sqrt(tmp1 - tmp2)\n",
    "\n",
    "    for scale in scales:\n",
    "        ax.add_patch(Ellipse(xy=(mu[0], mu[1]),\n",
    "                          width=2 * scale * sigma1, height=2 * scale * sigma2,\n",
    "                          angle=alpha * 180. / np.pi,\n",
    "                          **kwargs))\n",
    "\n",
    "\n",
    "plt.figure(figsize = (6, 6))\n",
    "plt.scatter(X[:, 0], X[:, 1], c = gmm.predict(X), cmap = 'plasma', alpha = 0.6)\n",
    "\n",
    "\n",
    "for i in  range(opt_comps):\n",
    "    draw_ellipse(gmm.means_[i], gmm.covariance_[i], ax = plt.gca(), edgecolor = 'red', lw = 2, facecolor = 'none')\n",
    "\n",
    "\n",
    "plt.title(f\"GMM  Clustering with {opt_comps} Components\")"
   ]
  },
  {
   "cell_type": "code",
   "execution_count": 4,
   "metadata": {},
   "outputs": [
    {
     "ename": "SyntaxError",
     "evalue": "incomplete input (2775668501.py, line 14)",
     "output_type": "error",
     "traceback": [
      "\u001b[1;36m  Cell \u001b[1;32mIn[4], line 14\u001b[1;36m\u001b[0m\n\u001b[1;33m    axes[1].scatter(cluster_centers[\u001b[0m\n\u001b[1;37m                                    ^\u001b[0m\n\u001b[1;31mSyntaxError\u001b[0m\u001b[1;31m:\u001b[0m incomplete input\n"
     ]
    }
   ],
   "source": [
    "scaler = StandardScaler()\n",
    "X_scaled = scaler.fit_transform(X)\n",
    "kmeans = KMeans(n_clusters = 5, random_state = 42).fit(X_scaled)\n",
    "labels = kMeans.predict(X_scaled)\n",
    "cluster_centers = scaler.inverse_transform(kmeans.cluster_centers_)\n",
    "\n",
    "\n",
    "fig, axes = plt.subplots(1, 2, figsize(12, 6))\n",
    "\n",
    "axes[0].scatter(X[:, 0], X[:, 1], c = y, cmap = 'viidis', alpha = 0.6)\n",
    "axes[0].set_title(\"Original Data With Labels\")\n",
    "\n",
    "axes[1].scatter(X[:, 0], X[:, 1], c = labels, cmap = 'viidis', alpha = 0.6)\n",
    "axes[1].scatter(cluster_centers[:, 1], c = 'red', marker = 'x', s = 200, label = 'Centers')\n",
    "axes[1].set_title(\"KMeans Clustering\")\n",
    "\n",
    "plt.legend()\n",
    "plt.show()\n"
   ]
  },
  {
   "cell_type": "code",
   "execution_count": null,
   "metadata": {},
   "outputs": [],
   "source": [
    ":"
   ]
  }
 ],
 "metadata": {
  "anaconda-cloud": {},
  "kernelspec": {
   "display_name": "Python [conda env:astr3300] *",
   "language": "python",
   "name": "conda-env-astr3300-py"
  },
  "language_info": {
   "codemirror_mode": {
    "name": "ipython",
    "version": 3
   },
   "file_extension": ".py",
   "mimetype": "text/x-python",
   "name": "python",
   "nbconvert_exporter": "python",
   "pygments_lexer": "ipython3",
   "version": "3.11.11"
  }
 },
 "nbformat": 4,
 "nbformat_minor": 4
}
