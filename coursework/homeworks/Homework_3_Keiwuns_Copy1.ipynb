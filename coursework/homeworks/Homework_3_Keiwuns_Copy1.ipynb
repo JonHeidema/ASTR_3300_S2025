{
 "cells": [
  {
   "cell_type": "markdown",
   "metadata": {},
   "source": [
    "### ASTR 3300/5300-003: Astrostatistics\n",
    "***N. Pol***\n",
    "___\n",
    "\n",
    "# Homework 3\n",
    "### Due: Friday, Feb 14th at 11.59pm CST\n",
    "---"
   ]
  },
  {
   "cell_type": "markdown",
   "metadata": {},
   "source": [
    "## Only one problem this week\n",
    "\n",
    "This problem uses a dataset in `/coursework/homeworks/hw_data/`.\n",
    "\n",
    "1) Read in `hw3_data_1.npy`. This is a (50 x 2) numpy array, with measurements in the first column and uncertainties in the second column. Using the analytic results for heteroscedastic Gaussian data from lectures, compute the sample mean and the standard error on the sample mean from for this data.\n",
    "\n",
    "2) Reusing some approaches and tools from `Lecture_6`, write a ln-likelihood function for heteroscedastic Gaussian data, and use it in a fitting algorithm to find the best-fit mean. *Remember that scipy optimizers are set up to minimize functions.*\n",
    "\n",
    "3) Using the same numerical technique from `Lecture_5`, compute the Fisher uncertainty estimate on the mean.\n",
    "\n",
    "4) Using the bootstrap method, generate $1000$ bootstrap realizations of this dataset. *DO NOT use the `astroML` code. Write your own bootstrap function from scratch. Also recall that when resampling data, measurements and uncertainties should stay paired together.*\n",
    "\n",
    "5) Repeat (2) with all $1000$ boostrap datasets to find the distribution of the sample mean. Plot a normalized histogram of these bootstrap means, and overplot a Gaussian pdf with the mean and std found in (1). Do these agree?\n",
    "\n",
    "6) While we have fitted a heteroscedastic Gaussian to this data, let's try something else. Write some code to define a ln-likelihood for a Laplace distribution evaluated on this data. Fit simultaneously for the Laplace location parameter $\\mu$ and scale parameter $\\Delta$.\n",
    "\n",
    "7) Compute the AIC values for the heteroscedastic Gaussian model and the Laplacian model. Which model is favored by the data?\n",
    "\n",
    "8) Using the $1000$ bootstrap datasets from before, fit for the Laplacian $\\mu$ and $\\Delta$ for each. Make a nice `corner` plot of the distributions of $\\mu$ and $\\Delta$ that shows both the marginal $1$D distributions and the joint $2$D distribution. Make sure the plot has labels, shows the titles on each $1$D marginal panel, and has $68\\%$ and $95\\%$ levels.\n",
    "\n",
    "9) Let's finish with a Fisher uncertainty estimate of the Laplacian parameters. Use the following code to install `numdifftools` which provides a simple way to compute derivatives. We can then compute the Hessian matrix, which is the matrix of the second derivatives of the user's function. This should be computed at the best-fit Laplacian parameters $\\mu$ and $\\Delta$. To finish, invert the matrix, and then take the square root. The diagonal entries will then be the Fisher uncertainties on $\\mu$ and $\\Delta$. How does these compare to the bootstrap distribution widths found in (8)?"
   ]
  },
  {
   "cell_type": "code",
   "execution_count": 2,
   "metadata": {},
   "outputs": [
    {
     "name": "stdout",
     "output_type": "stream",
     "text": [
      "Collecting numdifftools\n",
      "  Downloading numdifftools-0.9.41-py2.py3-none-any.whl.metadata (39 kB)\n",
      "Requirement already satisfied: numpy>=1.9 in c:\\users\\keitu\\anaconda3\\envs\\astr3300\\lib\\site-packages (from numdifftools) (1.26.4)\n",
      "Requirement already satisfied: scipy>=0.8 in c:\\users\\keitu\\anaconda3\\envs\\astr3300\\lib\\site-packages (from numdifftools) (1.15.1)\n",
      "Downloading numdifftools-0.9.41-py2.py3-none-any.whl (100 kB)\n",
      "Installing collected packages: numdifftools\n",
      "Successfully installed numdifftools-0.9.41\n"
     ]
    }
   ],
   "source": [
    "!pip install numdifftools"
   ]
  },
  {
   "cell_type": "code",
   "execution_count": 4,
   "metadata": {},
   "outputs": [
    {
     "ename": "NameError",
     "evalue": "name 'f_lnlaplace' is not defined",
     "output_type": "error",
     "traceback": [
      "\u001b[1;31m---------------------------------------------------------------------------\u001b[0m",
      "\u001b[1;31mNameError\u001b[0m                                 Traceback (most recent call last)",
      "Cell \u001b[1;32mIn[4], line 2\u001b[0m\n\u001b[0;32m      1\u001b[0m \u001b[38;5;28;01mimport\u001b[39;00m\u001b[38;5;250m \u001b[39m\u001b[38;5;21;01mnumdifftools\u001b[39;00m\u001b[38;5;250m \u001b[39m\u001b[38;5;28;01mas\u001b[39;00m\u001b[38;5;250m \u001b[39m\u001b[38;5;21;01mnd\u001b[39;00m\n\u001b[1;32m----> 2\u001b[0m H \u001b[38;5;241m=\u001b[39m nd\u001b[38;5;241m.\u001b[39mHessian(\u001b[43mf_lnlaplace\u001b[49m)([beta_laplace[\u001b[38;5;241m0\u001b[39m], beta_laplace[\u001b[38;5;241m1\u001b[39m]])\n\u001b[0;32m      3\u001b[0m sigma_laplace \u001b[38;5;241m=\u001b[39m np\u001b[38;5;241m.\u001b[39mlinalg\u001b[38;5;241m.\u001b[39minv(H)\u001b[38;5;241m*\u001b[39m\u001b[38;5;241m*\u001b[39m\u001b[38;5;241m0.5\u001b[39m\n",
      "\u001b[1;31mNameError\u001b[0m: name 'f_lnlaplace' is not defined"
     ]
    }
   ],
   "source": [
    "import numdifftools as nd\n",
    "H = nd.Hessian(f_lnlaplace)([beta_laplace[0], beta_laplace[1]])\n",
    "sigma_laplace = np.linalg.inv(H)**0.5"
   ]
  },
  {
   "cell_type": "markdown",
   "metadata": {},
   "source": [
    "### Solution"
   ]
  },
  {
   "cell_type": "code",
   "execution_count": 16,
   "metadata": {},
   "outputs": [],
   "source": [
    "import numpy as np\n",
    "import scipy.optimize as opt\n",
    "import matplotlib.pyplot as plt\n",
    "import seaborn as sns\n",
    "import corner\n",
    "import numdifftools as nd \n",
    "import scipy.stats as stats"
   ]
  },
  {
   "cell_type": "code",
   "execution_count": 18,
   "metadata": {},
   "outputs": [
    {
     "name": "stdout",
     "output_type": "stream",
     "text": [
      "Part a: Best Fit Mean: 3.937547512109005, Standard Error: 0.11507206049948653\n",
      "\n",
      "Part b: Best Fit Gaussian mean: 3.917992036502219\n",
      "\n",
      "Part c: Fisher Uncertainty: 0.09481084100510954\n",
      "\n"
     ]
    },
    {
     "ename": "NameError",
     "evalue": "name 'weighted_mean' is not defined",
     "output_type": "error",
     "traceback": [
      "\u001b[1;31m---------------------------------------------------------------------------\u001b[0m",
      "\u001b[1;31mNameError\u001b[0m                                 Traceback (most recent call last)",
      "Cell \u001b[1;32mIn[18], line 32\u001b[0m\n\u001b[0;32m     30\u001b[0m plt\u001b[38;5;241m.\u001b[39mhist(bootstrap_means, bins\u001b[38;5;241m=\u001b[39m\u001b[38;5;241m30\u001b[39m, density\u001b[38;5;241m=\u001b[39m\u001b[38;5;28;01mTrue\u001b[39;00m, alpha\u001b[38;5;241m=\u001b[39m\u001b[38;5;241m0.6\u001b[39m, label \u001b[38;5;241m=\u001b[39m \u001b[38;5;124m'\u001b[39m\u001b[38;5;124mBootstrap means\u001b[39m\u001b[38;5;124m'\u001b[39m, color \u001b[38;5;241m=\u001b[39m \u001b[38;5;124m'\u001b[39m\u001b[38;5;124mteal\u001b[39m\u001b[38;5;124m'\u001b[39m, edgecolor \u001b[38;5;241m=\u001b[39m \u001b[38;5;124m'\u001b[39m\u001b[38;5;124mblack\u001b[39m\u001b[38;5;124m'\u001b[39m)\n\u001b[0;32m     31\u001b[0m x \u001b[38;5;241m=\u001b[39m np\u001b[38;5;241m.\u001b[39mlinspace(\u001b[38;5;28mmin\u001b[39m(bootstrap_means), \u001b[38;5;28mmax\u001b[39m(bootstrap_means), \u001b[38;5;241m100\u001b[39m)\n\u001b[1;32m---> 32\u001b[0m plt\u001b[38;5;241m.\u001b[39mplot(x, stats\u001b[38;5;241m.\u001b[39mnorm\u001b[38;5;241m.\u001b[39mpdf(x, \u001b[43mweighted_mean\u001b[49m, std_error), label \u001b[38;5;241m=\u001b[39m \u001b[38;5;124m'\u001b[39m\u001b[38;5;124mGaussian PDF\u001b[39m\u001b[38;5;124m'\u001b[39m, color \u001b[38;5;241m=\u001b[39m \u001b[38;5;124m'\u001b[39m\u001b[38;5;124morange\u001b[39m\u001b[38;5;124m'\u001b[39m, linewidth\u001b[38;5;241m=\u001b[39m\u001b[38;5;241m2\u001b[39m)\n\u001b[0;32m     33\u001b[0m plt\u001b[38;5;241m.\u001b[39maxvline(weigthed_mean, color \u001b[38;5;241m=\u001b[39m \u001b[38;5;124m'\u001b[39m\u001b[38;5;124mred\u001b[39m\u001b[38;5;124m'\u001b[39m, linstyle \u001b[38;5;241m=\u001b[39m \u001b[38;5;124m'\u001b[39m\u001b[38;5;124mdashed\u001b[39m\u001b[38;5;124m'\u001b[39m, linewidth \u001b[38;5;241m=\u001b[39m \u001b[38;5;241m2\u001b[39m , label \u001b[38;5;241m=\u001b[39m \u001b[38;5;124m'\u001b[39m\u001b[38;5;124mMean Value\u001b[39m\u001b[38;5;124m'\u001b[39m)\n\u001b[0;32m     34\u001b[0m plt\u001b[38;5;241m.\u001b[39mxlabel(\u001b[38;5;124m'\u001b[39m\u001b[38;5;124mMean\u001b[39m\u001b[38;5;124m'\u001b[39m)\n",
      "\u001b[1;31mNameError\u001b[0m: name 'weighted_mean' is not defined"
     ]
    },
    {
     "data": {
      "image/png": "[encoded data removed]",
      "text/plain": [
       "<Figure size 640x480 with 1 Axes>"
      ]
     },
     "metadata": {},
     "output_type": "display_data"
    }
   ],
   "source": [
    "data = np. load(r\"C:\\Users\\keitu\\ASTR_3300_S2025\\coursework\\homeworks\\hw_data\\hw3_data_1.npy\")\n",
    "measurements, uncertainties = data[:, 0], data[:, 1]\n",
    "\n",
    "mean_sample = np.mean(measurements)\n",
    "std_error = np.std(measurements) /np.sqrt(len(measurements))\n",
    "print(f\"Part a: Best Fit Mean: {mean_sample}, Standard Error: {std_error}\\n\")\n",
    "\n",
    "\n",
    "def ln_likelihood_gaussian(params, x, sigma):\n",
    "    mu = params[0]\n",
    "    return -0.5 * np.sum(((x - mu) / sigma) ** 2 + np.log(2 * np.pi * sigma **2))\n",
    "res = opt.minimize(lambda p: -ln_likelihood_gaussian(p, measurements, uncertainties), x0 = [mean_sample]) \n",
    "best_fit_mu = res.x[0]\n",
    "print(f\"Part b: Best Fit Gaussian mean: {best_fit_mu}\\n\")\n",
    "\n",
    "\n",
    "fisher_uncertainty = np.sqrt(1/ np.sum(1/(uncertainties**2)))\n",
    "print(f\"Part c: Fisher Uncertainty: {fisher_uncertainty}\\n\")\n",
    "\n",
    "\n",
    "\n",
    "n_bootstrap = 1000\n",
    "bootstrap_means = np.zeros(n_bootstrap)\n",
    "for i in range (n_bootstrap):\n",
    "    indices = np.random.choice(len(measurements), len(measurements), replace=True)\n",
    "    bootstrap_means[i] = np.sum(measurements[indices] / uncertainties[indices]**2) / np.sum(1/ uncertainties[indices]**2)\n",
    "\n",
    "\n",
    "plt.figure()\n",
    "plt.hist(bootstrap_means, bins=30, density=True, alpha=0.6, label = 'Bootstrap means', color = 'teal', edgecolor = 'black')\n",
    "x = np.linspace(min(bootstrap_means), max(bootstrap_means), 100)\n",
    "plt.plot(x, stats.norm.pdf(x, weighted_mean, std_error), label = 'Gaussian PDF', color = 'orange', linewidth=2)\n",
    "plt.axvline(weigthed_mean, color = 'red', linstyle = 'dashed', linewidth = 2 , label = 'Mean Value')\n",
    "plt.xlabel('Mean')\n",
    "plt.ylabel('Density')\n",
    "plt.title('Bootstrap of Sample Mean')\n",
    "plt.legend()\n",
    "plt.show()\n",
    "\n",
    "\n",
    "\n",
    "def ln_likelihood_laplace(params, x):\n",
    "    mu, delta = params\n",
    "    return -np.sum(np.abs(x - mu) / delta + np.log(2*delta))\n",
    "\n",
    "res_laplace = opt.minimize(lambda p: -ln_likelihood_laplace(p, measurements), x0 = [mean_sample, np.std(measurements)])\n",
    "best_fit_mu_laplace, best_fit_delta = res_laplace.x\n",
    "print(f\" Part 6: Best Fit Laplace parameters: mu = {best_fit_mu_laplace}, delta = {best_fit_delta}\\n\")\n",
    "\n",
    "\n",
    "\n",
    "def AIC(log_likelihood, k):\n",
    "    return 2 * k-2 * log_likelihood\n",
    "\n",
    "aic_gaussian = AIC(-res.fun, 1)\n",
    "aic_laplace = AIC(-res_laplace.fun, 2)\n",
    "print(f\" Part 7: AIC Gaussian: {aic_gaussian}, AIC Laplace: {aic_laplace}\")\n",
    "    \n"
   ]
  },
  {
   "cell_type": "code",
   "execution_count": null,
   "metadata": {},
   "outputs": [],
   "source": []
  }
 ],
 "metadata": {
  "anaconda-cloud": {},
  "kernelspec": {
   "display_name": "Python [conda env:astr3300] *",
   "language": "python",
   "name": "conda-env-astr3300-py"
  },
  "language_info": {
   "codemirror_mode": {
    "name": "ipython",
    "version": 3
   },
   "file_extension": ".py",
   "mimetype": "text/x-python",
   "name": "python",
   "nbconvert_exporter": "python",
   "pygments_lexer": "ipython3",
   "version": "3.11.11"
  }
 },
 "nbformat": 4,
 "nbformat_minor": 4
}
